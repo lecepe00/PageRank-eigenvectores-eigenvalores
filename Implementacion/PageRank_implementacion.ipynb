{
 "cells": [
  {
   "cell_type": "markdown",
   "metadata": {},
   "source": [
    "# PageRank"
   ]
  },
  {
   "cell_type": "markdown",
   "metadata": {},
   "source": [
    "#### Librerías utilizadas"
   ]
  },
  {
   "cell_type": "code",
   "execution_count": 1,
   "metadata": {},
   "outputs": [],
   "source": [
    "import numpy as np\n",
    "import math\n",
    "import pandas as pd\n",
    "from scipy.sparse import csr_matrix \n",
    "  \n",
    "# Para las pruebas\n",
    "from pytest import approx\n",
    "import pprint\n",
    "\n",
    "# Para los grafos\n",
    "import networkx as nx\n",
    "import matplotlib.pyplot as plt"
   ]
  },
  {
   "cell_type": "markdown",
   "metadata": {},
   "source": [
    "## Definimos una set para practicar (por ahora 4 páginas)"
   ]
  },
  {
   "cell_type": "markdown",
   "metadata": {},
   "source": [
    "Donde podemos observar en la columnas:\n",
    "- `pagina`: la página a la que hace referencia.\n",
    "- `outlinks`: los links a los que cada `pagina` hace referencia."
   ]
  },
  {
   "cell_type": "code",
   "execution_count": 2,
   "metadata": {},
   "outputs": [],
   "source": [
    "pages_links = pd.DataFrame(columns=['pagina','outlinks'])"
   ]
  },
  {
   "cell_type": "code",
   "execution_count": 3,
   "metadata": {},
   "outputs": [],
   "source": [
    "pages_links['pagina'] = ['A', 'B', 'C', 'D']"
   ]
  },
  {
   "cell_type": "code",
   "execution_count": 4,
   "metadata": {},
   "outputs": [],
   "source": [
    "pages_links['outlinks'][0] = ['C', 'B']"
   ]
  },
  {
   "cell_type": "code",
   "execution_count": 5,
   "metadata": {},
   "outputs": [],
   "source": [
    "pages_links['outlinks'][1] = ['D']"
   ]
  },
  {
   "cell_type": "code",
   "execution_count": 6,
   "metadata": {},
   "outputs": [],
   "source": [
    "pages_links['outlinks'][2] = ['A', 'B', 'D']"
   ]
  },
  {
   "cell_type": "code",
   "execution_count": 7,
   "metadata": {},
   "outputs": [],
   "source": [
    "pages_links['outlinks'][3] = ['C']"
   ]
  },
  {
   "cell_type": "code",
   "execution_count": 8,
   "metadata": {},
   "outputs": [
    {
     "data": {
      "text/html": [
       "<div>\n",
       "<style scoped>\n",
       "    .dataframe tbody tr th:only-of-type {\n",
       "        vertical-align: middle;\n",
       "    }\n",
       "\n",
       "    .dataframe tbody tr th {\n",
       "        vertical-align: top;\n",
       "    }\n",
       "\n",
       "    .dataframe thead th {\n",
       "        text-align: right;\n",
       "    }\n",
       "</style>\n",
       "<table border=\"1\" class=\"dataframe\">\n",
       "  <thead>\n",
       "    <tr style=\"text-align: right;\">\n",
       "      <th></th>\n",
       "      <th>pagina</th>\n",
       "      <th>outlinks</th>\n",
       "    </tr>\n",
       "  </thead>\n",
       "  <tbody>\n",
       "    <tr>\n",
       "      <th>0</th>\n",
       "      <td>A</td>\n",
       "      <td>[C, B]</td>\n",
       "    </tr>\n",
       "    <tr>\n",
       "      <th>1</th>\n",
       "      <td>B</td>\n",
       "      <td>[D]</td>\n",
       "    </tr>\n",
       "    <tr>\n",
       "      <th>2</th>\n",
       "      <td>C</td>\n",
       "      <td>[A, B, D]</td>\n",
       "    </tr>\n",
       "    <tr>\n",
       "      <th>3</th>\n",
       "      <td>D</td>\n",
       "      <td>[C]</td>\n",
       "    </tr>\n",
       "  </tbody>\n",
       "</table>\n",
       "</div>"
      ],
      "text/plain": [
       "  pagina   outlinks\n",
       "0      A     [C, B]\n",
       "1      B        [D]\n",
       "2      C  [A, B, D]\n",
       "3      D        [C]"
      ]
     },
     "execution_count": 8,
     "metadata": {},
     "output_type": "execute_result"
    }
   ],
   "source": [
    "pages_links"
   ]
  },
  {
   "cell_type": "markdown",
   "metadata": {},
   "source": [
    "## Definimos un grafo pequeño de acuerdo a los datos anteriores"
   ]
  },
  {
   "cell_type": "code",
   "execution_count": 9,
   "metadata": {},
   "outputs": [
    {
     "data": {
      "image/png": "[encoded data removed]",
      "text/plain": [
       "<Figure size 576x576 with 1 Axes>"
      ]
     },
     "metadata": {},
     "output_type": "display_data"
    }
   ],
   "source": [
    "nodos = pages_links['pagina']\n",
    "\n",
    "plt.figure(figsize=(8,8))\n",
    "G = nx.DiGraph()\n",
    "\n",
    "for nodo in nodos:\n",
    "    G.add_node(nodo)\n",
    "    \n",
    "for page, outlinks in zip(pages_links['pagina'],pages_links['outlinks']):\n",
    "    for outlink in outlinks:\n",
    "        G.add_edge(page, outlink)\n",
    "\n",
    "pos = nx.spring_layout(G)\n",
    "\n",
    "\n",
    "nx.draw_networkx_nodes(G, pos, node_color='#a0a88a', node_size=400)\n",
    "nx.draw_networkx_labels(G, pos)\n",
    "nx.draw_networkx_edges(G, pos, edge_color='#305029', width=1.8, arrows = True, style='dashed')\n",
    "\n",
    "plt.show()"
   ]
  },
  {
   "cell_type": "markdown",
   "metadata": {},
   "source": [
    "### Definimos nuestra matriz estocástica conforme a lo visto en el grafo:"
   ]
  },
  {
   "cell_type": "code",
   "execution_count": 10,
   "metadata": {},
   "outputs": [],
   "source": [
    "sparseMatrix = csr_matrix((len(pages_links), len(pages_links)),  \n",
    "                          dtype = np.float).toarray() "
   ]
  },
  {
   "cell_type": "code",
   "execution_count": 11,
   "metadata": {},
   "outputs": [],
   "source": [
    "newdf = pd.DataFrame(sparseMatrix, columns = pages_links['pagina'], index=pages_links['pagina'])"
   ]
  },
  {
   "cell_type": "code",
   "execution_count": 12,
   "metadata": {},
   "outputs": [],
   "source": [
    "count = 0\n",
    "for page, outlinks in zip(pages_links['pagina'],pages_links['outlinks']):\n",
    "    score = 1/len(outlinks)\n",
    "    dict_page = {page: np.zeros(len(pages_links))}\n",
    "    for outlink in outlinks:\n",
    "        newdf[page][outlink] = score"
   ]
  },
  {
   "cell_type": "code",
   "execution_count": 13,
   "metadata": {},
   "outputs": [
    {
     "data": {
      "text/html": [
       "<div>\n",
       "<style scoped>\n",
       "    .dataframe tbody tr th:only-of-type {\n",
       "        vertical-align: middle;\n",
       "    }\n",
       "\n",
       "    .dataframe tbody tr th {\n",
       "        vertical-align: top;\n",
       "    }\n",
       "\n",
       "    .dataframe thead th {\n",
       "        text-align: right;\n",
       "    }\n",
       "</style>\n",
       "<table border=\"1\" class=\"dataframe\">\n",
       "  <thead>\n",
       "    <tr style=\"text-align: right;\">\n",
       "      <th>pagina</th>\n",
       "      <th>A</th>\n",
       "      <th>B</th>\n",
       "      <th>C</th>\n",
       "      <th>D</th>\n",
       "    </tr>\n",
       "    <tr>\n",
       "      <th>pagina</th>\n",
       "      <th></th>\n",
       "      <th></th>\n",
       "      <th></th>\n",
       "      <th></th>\n",
       "    </tr>\n",
       "  </thead>\n",
       "  <tbody>\n",
       "    <tr>\n",
       "      <th>A</th>\n",
       "      <td>0.0</td>\n",
       "      <td>0.0</td>\n",
       "      <td>0.333333</td>\n",
       "      <td>0.0</td>\n",
       "    </tr>\n",
       "    <tr>\n",
       "      <th>B</th>\n",
       "      <td>0.5</td>\n",
       "      <td>0.0</td>\n",
       "      <td>0.333333</td>\n",
       "      <td>0.0</td>\n",
       "    </tr>\n",
       "    <tr>\n",
       "      <th>C</th>\n",
       "      <td>0.5</td>\n",
       "      <td>0.0</td>\n",
       "      <td>0.000000</td>\n",
       "      <td>1.0</td>\n",
       "    </tr>\n",
       "    <tr>\n",
       "      <th>D</th>\n",
       "      <td>0.0</td>\n",
       "      <td>1.0</td>\n",
       "      <td>0.333333</td>\n",
       "      <td>0.0</td>\n",
       "    </tr>\n",
       "  </tbody>\n",
       "</table>\n",
       "</div>"
      ],
      "text/plain": [
       "pagina    A    B         C    D\n",
       "pagina                         \n",
       "A       0.0  0.0  0.333333  0.0\n",
       "B       0.5  0.0  0.333333  0.0\n",
       "C       0.5  0.0  0.000000  1.0\n",
       "D       0.0  1.0  0.333333  0.0"
      ]
     },
     "execution_count": 13,
     "metadata": {},
     "output_type": "execute_result"
    }
   ],
   "source": [
    "newdf"
   ]
  },
  {
   "cell_type": "code",
   "execution_count": 14,
   "metadata": {},
   "outputs": [],
   "source": [
    "H = newdf.to_numpy()"
   ]
  },
  {
   "cell_type": "code",
   "execution_count": 15,
   "metadata": {},
   "outputs": [
    {
     "data": {
      "text/html": [
       "<div>\n",
       "<style scoped>\n",
       "    .dataframe tbody tr th:only-of-type {\n",
       "        vertical-align: middle;\n",
       "    }\n",
       "\n",
       "    .dataframe tbody tr th {\n",
       "        vertical-align: top;\n",
       "    }\n",
       "\n",
       "    .dataframe thead th {\n",
       "        text-align: right;\n",
       "    }\n",
       "</style>\n",
       "<table border=\"1\" class=\"dataframe\">\n",
       "  <thead>\n",
       "    <tr style=\"text-align: right;\">\n",
       "      <th>pagina</th>\n",
       "      <th>A</th>\n",
       "      <th>B</th>\n",
       "      <th>C</th>\n",
       "      <th>D</th>\n",
       "    </tr>\n",
       "    <tr>\n",
       "      <th>pagina</th>\n",
       "      <th></th>\n",
       "      <th></th>\n",
       "      <th></th>\n",
       "      <th></th>\n",
       "    </tr>\n",
       "  </thead>\n",
       "  <tbody>\n",
       "    <tr>\n",
       "      <th>A</th>\n",
       "      <td>0.0</td>\n",
       "      <td>0.0</td>\n",
       "      <td>0.333333</td>\n",
       "      <td>0.0</td>\n",
       "    </tr>\n",
       "    <tr>\n",
       "      <th>B</th>\n",
       "      <td>0.5</td>\n",
       "      <td>0.0</td>\n",
       "      <td>0.333333</td>\n",
       "      <td>0.0</td>\n",
       "    </tr>\n",
       "    <tr>\n",
       "      <th>C</th>\n",
       "      <td>0.5</td>\n",
       "      <td>0.0</td>\n",
       "      <td>0.000000</td>\n",
       "      <td>1.0</td>\n",
       "    </tr>\n",
       "    <tr>\n",
       "      <th>D</th>\n",
       "      <td>0.0</td>\n",
       "      <td>1.0</td>\n",
       "      <td>0.333333</td>\n",
       "      <td>0.0</td>\n",
       "    </tr>\n",
       "  </tbody>\n",
       "</table>\n",
       "</div>"
      ],
      "text/plain": [
       "pagina    A    B         C    D\n",
       "pagina                         \n",
       "A       0.0  0.0  0.333333  0.0\n",
       "B       0.5  0.0  0.333333  0.0\n",
       "C       0.5  0.0  0.000000  1.0\n",
       "D       0.0  1.0  0.333333  0.0"
      ]
     },
     "execution_count": 15,
     "metadata": {},
     "output_type": "execute_result"
    }
   ],
   "source": [
    "pd.DataFrame(newdf)"
   ]
  },
  {
   "cell_type": "markdown",
   "metadata": {},
   "source": [
    "## Probamos la obtención de Eigenvectores con Factorización QR (algoritmo desarrollado en la práctica 1.2)"
   ]
  },
  {
   "cell_type": "code",
   "execution_count": 16,
   "metadata": {},
   "outputs": [],
   "source": [
    "def sign(x):\n",
    "    \"\"\"\n",
    "    Helper function for computing sign of real number x.\n",
    "    \"\"\"\n",
    "    if x >= 0:\n",
    "        return 1\n",
    "    else:\n",
    "        return -1"
   ]
  },
  {
   "cell_type": "code",
   "execution_count": 17,
   "metadata": {},
   "outputs": [],
   "source": [
    "def inverse_matrix(A):\n",
    "    \"\"\"\n",
    "    Helper function for computing the inverse of matrix A nxn.\n",
    "    \"\"\"\n",
    "    inv_temp = []\n",
    "    \n",
    "    for i in range (0,A.shape[0]): \n",
    "        e1 = np.zeros((A.shape[0],1))\n",
    "        e1[i] = 1\n",
    "        A_inv_i = np.linalg.solve(A.T, e1)\n",
    "        inv_temp.append(A_inv_i)  \n",
    "        \n",
    "    for j in range (0,len(inv_temp)-1):\n",
    "        if j == 0:\n",
    "            r_inv = np.row_stack((inv_temp[j].T, inv_temp[j+1].T))\n",
    "        else:\n",
    "            r_inv = np.row_stack((r_inv, inv_temp[j+1].T))\n",
    "        \n",
    "    return(r_inv)"
   ]
  },
  {
   "cell_type": "code",
   "execution_count": 18,
   "metadata": {},
   "outputs": [],
   "source": [
    "def off(T):\n",
    "    \"\"\"\n",
    "    Helper function for computing off(T).\n",
    "    \"\"\"\n",
    "    mask = np.ones(T.shape, dtype = bool)\n",
    "    np.fill_diagonal(mask, 0)\n",
    "    T_sin_dig = T[mask]\n",
    "    sum = 0\n",
    "    for i in range (0,len(T_sin_dig)):\n",
    "        # print (T_sin_dig[i])\n",
    "        sum += T_sin_dig[i]**2\n",
    "    off_T = np.sqrt(sum)\n",
    "    \n",
    "    return(off_T)"
   ]
  },
  {
   "cell_type": "code",
   "execution_count": 21,
   "metadata": {},
   "outputs": [],
   "source": [
    "def QR_Householder(A):\n",
    "    \"\"\"\n",
    "    Decompose a real square matrix A where: A = QR usign Householder reflections.\n",
    "    Args:\n",
    "        A (numpy ndarray): Matrix in which QR algorithm will be performed.\n",
    "    Returns:\n",
    "        Q (numpy ndarray): orthogonal matrix (its columns are orthogonal unit vectors meaning\n",
    "                            Q.TQ = QQ.T = I)\n",
    "        R (numpy ndarray): upper triangular matrix.\n",
    "    \"\"\"\n",
    "    a_aux = []\n",
    "    \n",
    "    for j in range (0,A.shape[0]-1):          #Asumimos que A SIEMPRE será cuadrada\n",
    "        e = np.zeros((A.shape[0]-j, 1))\n",
    "        e[0] = 1\n",
    "        if j == 0:\n",
    "            v = A[:,0] + sign(A[0,0])*np.linalg.norm(A[:,0])*e.T[0]\n",
    "            beta = 2/v.dot(v)\n",
    "            aux = A[:,0:] - beta*np.outer(v,v.dot(A[:,0:]))\n",
    "            a_aux.append(aux)\n",
    "        else:\n",
    "            v = aux[1:,1] + sign(aux[1,1])*np.linalg.norm(aux[1:,1])*e.T[0]\n",
    "            beta = 2/v.dot(v)  \n",
    "            aux = aux[1:,1:] - beta*np.outer(v,v.dot(aux[1:,1:]))\n",
    "            a_aux.append(aux)\n",
    "    \n",
    "    n,n = A.shape\n",
    "    count = 0\n",
    "    \n",
    "    if n == 2:\n",
    "        R = a_aux[0]\n",
    "    else:\n",
    "        for h in range(n-2,0,-1):\n",
    "            if count == 0:\n",
    "                temp_col = np.column_stack((np.zeros(2 + count), a_aux[h]))\n",
    "            else:\n",
    "                temp_col = np.column_stack((np.zeros(2 + count), temp_row))\n",
    "            temp_row = np.row_stack((a_aux[h-1][0, 0:], temp_col))\n",
    "            count += 1\n",
    "        R = temp_row\n",
    "    R_inv = inverse_matrix(R)\n",
    "    \n",
    "    Q = A@R_inv   \n",
    "    \n",
    "    return (Q,R)"
   ]
  },
  {
   "cell_type": "code",
   "execution_count": 102,
   "metadata": {},
   "outputs": [],
   "source": [
    "def Eig_Householder(A):\n",
    "    \"\"\"\n",
    "    Compute QR algorithm usign Householder reflections multiple times to approximate eigenvalues and \n",
    "    eigenvectors of A.\n",
    "    Args:\n",
    "        A (numpy ndarray): Symmetric matrix \n",
    "    Returns:\n",
    "        evalues (numpy ndarray): Array with eigenvalues of matrix A.\n",
    "        evectors (numpy ndarray): Matrix with eigenvectors of matrix A on its columns.\n",
    "    \"\"\"\n",
    "    tol = 10e-8\n",
    "    max_iters = 2000\n",
    "    tk_fro_norm = np.linalg.norm(A, 'fro')\n",
    "    iterations = 0\n",
    "    off_Tk = off(A)\n",
    "    \n",
    "    q_aux = []\n",
    "    \n",
    "    while off_Tk > tol*tk_fro_norm and iterations < max_iters:\n",
    "        iterations += 1\n",
    "        if iterations == 1:\n",
    "            Tk_minus1 = A\n",
    "        else:\n",
    "            Tk_minus1 = Tk\n",
    "        \n",
    "        q,r = QR_Householder(Tk_minus1)    \n",
    "        q_aux.append(q)\n",
    "        \n",
    "        Tk = r@q\n",
    "        \n",
    "        off_Tk = off(Tk)\n",
    "        tk_fro_norm = np.linalg.norm(Tk, 'fro')\n",
    "    \n",
    "    #Multiplicación Q0*Q1...Qn para cálculo de eigenvectores\n",
    "    for g in range(0,len(q_aux)-1,1):\n",
    "        if g == 0:\n",
    "            q_temp = q_aux[g]@q_aux[g+1]\n",
    "        else:\n",
    "            q_temp = q_temp@q_aux[g+1]\n",
    "    \n",
    "    if iterations == 0:\n",
    "        evalues = \"error\"\n",
    "        evectors = \"error\"\n",
    "    else:\n",
    "        evectors = q_temp\n",
    "        evalues = np.diag(Tk)\n",
    "    \n",
    "    return (evalues,evectors)"
   ]
  },
  {
   "cell_type": "code",
   "execution_count": 23,
   "metadata": {
    "scrolled": true
   },
   "outputs": [],
   "source": [
    "eigval, eigvec = Eig_Householder(H)"
   ]
  },
  {
   "cell_type": "code",
   "execution_count": 24,
   "metadata": {},
   "outputs": [
    {
     "data": {
      "text/html": [
       "<div>\n",
       "<style scoped>\n",
       "    .dataframe tbody tr th:only-of-type {\n",
       "        vertical-align: middle;\n",
       "    }\n",
       "\n",
       "    .dataframe tbody tr th {\n",
       "        vertical-align: top;\n",
       "    }\n",
       "\n",
       "    .dataframe thead th {\n",
       "        text-align: right;\n",
       "    }\n",
       "</style>\n",
       "<table border=\"1\" class=\"dataframe\">\n",
       "  <thead>\n",
       "    <tr style=\"text-align: right;\">\n",
       "      <th></th>\n",
       "      <th>0</th>\n",
       "    </tr>\n",
       "  </thead>\n",
       "  <tbody>\n",
       "    <tr>\n",
       "      <th>0</th>\n",
       "      <td>1.000000</td>\n",
       "    </tr>\n",
       "    <tr>\n",
       "      <th>1</th>\n",
       "      <td>-0.626538</td>\n",
       "    </tr>\n",
       "    <tr>\n",
       "      <th>2</th>\n",
       "      <td>-0.382056</td>\n",
       "    </tr>\n",
       "    <tr>\n",
       "      <th>3</th>\n",
       "      <td>0.008595</td>\n",
       "    </tr>\n",
       "  </tbody>\n",
       "</table>\n",
       "</div>"
      ],
      "text/plain": [
       "          0\n",
       "0  1.000000\n",
       "1 -0.626538\n",
       "2 -0.382056\n",
       "3  0.008595"
      ]
     },
     "execution_count": 24,
     "metadata": {},
     "output_type": "execute_result"
    }
   ],
   "source": [
    "pd.DataFrame(eigval)"
   ]
  },
  {
   "cell_type": "code",
   "execution_count": 25,
   "metadata": {},
   "outputs": [
    {
     "data": {
      "text/html": [
       "<div>\n",
       "<style scoped>\n",
       "    .dataframe tbody tr th:only-of-type {\n",
       "        vertical-align: middle;\n",
       "    }\n",
       "\n",
       "    .dataframe tbody tr th {\n",
       "        vertical-align: top;\n",
       "    }\n",
       "\n",
       "    .dataframe thead th {\n",
       "        text-align: right;\n",
       "    }\n",
       "</style>\n",
       "<table border=\"1\" class=\"dataframe\">\n",
       "  <thead>\n",
       "    <tr style=\"text-align: right;\">\n",
       "      <th></th>\n",
       "      <th>0</th>\n",
       "      <th>1</th>\n",
       "      <th>2</th>\n",
       "      <th>3</th>\n",
       "    </tr>\n",
       "  </thead>\n",
       "  <tbody>\n",
       "    <tr>\n",
       "      <th>0</th>\n",
       "      <td>0.232495</td>\n",
       "      <td>0.529635</td>\n",
       "      <td>-0.047676</td>\n",
       "      <td>0.814346</td>\n",
       "    </tr>\n",
       "    <tr>\n",
       "      <th>1</th>\n",
       "      <td>0.348743</td>\n",
       "      <td>0.192872</td>\n",
       "      <td>-0.874578</td>\n",
       "      <td>-0.276209</td>\n",
       "    </tr>\n",
       "    <tr>\n",
       "      <th>2</th>\n",
       "      <td>0.697486</td>\n",
       "      <td>-0.672574</td>\n",
       "      <td>0.053553</td>\n",
       "      <td>0.241433</td>\n",
       "    </tr>\n",
       "    <tr>\n",
       "      <th>3</th>\n",
       "      <td>0.581238</td>\n",
       "      <td>0.479512</td>\n",
       "      <td>0.479553</td>\n",
       "      <td>-0.449732</td>\n",
       "    </tr>\n",
       "  </tbody>\n",
       "</table>\n",
       "</div>"
      ],
      "text/plain": [
       "          0         1         2         3\n",
       "0  0.232495  0.529635 -0.047676  0.814346\n",
       "1  0.348743  0.192872 -0.874578 -0.276209\n",
       "2  0.697486 -0.672574  0.053553  0.241433\n",
       "3  0.581238  0.479512  0.479553 -0.449732"
      ]
     },
     "execution_count": 25,
     "metadata": {},
     "output_type": "execute_result"
    }
   ],
   "source": [
    "pd.DataFrame(eigvec)"
   ]
  },
  {
   "cell_type": "markdown",
   "metadata": {},
   "source": [
    "#### No olvidemos comprobar que los eigenvalores y eigenvectores sean los esperados"
   ]
  },
  {
   "cell_type": "code",
   "execution_count": 26,
   "metadata": {},
   "outputs": [],
   "source": [
    "eigval_eig , eigvec_eig = np.linalg.eig(H)"
   ]
  },
  {
   "cell_type": "code",
   "execution_count": 27,
   "metadata": {},
   "outputs": [
    {
     "data": {
      "text/html": [
       "<div>\n",
       "<style scoped>\n",
       "    .dataframe tbody tr th:only-of-type {\n",
       "        vertical-align: middle;\n",
       "    }\n",
       "\n",
       "    .dataframe tbody tr th {\n",
       "        vertical-align: top;\n",
       "    }\n",
       "\n",
       "    .dataframe thead th {\n",
       "        text-align: right;\n",
       "    }\n",
       "</style>\n",
       "<table border=\"1\" class=\"dataframe\">\n",
       "  <thead>\n",
       "    <tr style=\"text-align: right;\">\n",
       "      <th></th>\n",
       "      <th>0</th>\n",
       "    </tr>\n",
       "  </thead>\n",
       "  <tbody>\n",
       "    <tr>\n",
       "      <th>0</th>\n",
       "      <td>1.000000+0.000000j</td>\n",
       "    </tr>\n",
       "    <tr>\n",
       "      <th>1</th>\n",
       "      <td>-0.626538+0.000000j</td>\n",
       "    </tr>\n",
       "    <tr>\n",
       "      <th>2</th>\n",
       "      <td>-0.186731+0.480774j</td>\n",
       "    </tr>\n",
       "    <tr>\n",
       "      <th>3</th>\n",
       "      <td>-0.186731-0.480774j</td>\n",
       "    </tr>\n",
       "  </tbody>\n",
       "</table>\n",
       "</div>"
      ],
      "text/plain": [
       "                    0\n",
       "0  1.000000+0.000000j\n",
       "1 -0.626538+0.000000j\n",
       "2 -0.186731+0.480774j\n",
       "3 -0.186731-0.480774j"
      ]
     },
     "execution_count": 27,
     "metadata": {},
     "output_type": "execute_result"
    }
   ],
   "source": [
    "pd.DataFrame(eigval_eig)"
   ]
  },
  {
   "cell_type": "code",
   "execution_count": 28,
   "metadata": {},
   "outputs": [
    {
     "data": {
      "text/html": [
       "<div>\n",
       "<style scoped>\n",
       "    .dataframe tbody tr th:only-of-type {\n",
       "        vertical-align: middle;\n",
       "    }\n",
       "\n",
       "    .dataframe tbody tr th {\n",
       "        vertical-align: top;\n",
       "    }\n",
       "\n",
       "    .dataframe thead th {\n",
       "        text-align: right;\n",
       "    }\n",
       "</style>\n",
       "<table border=\"1\" class=\"dataframe\">\n",
       "  <thead>\n",
       "    <tr style=\"text-align: right;\">\n",
       "      <th></th>\n",
       "      <th>0</th>\n",
       "      <th>1</th>\n",
       "      <th>2</th>\n",
       "      <th>3</th>\n",
       "    </tr>\n",
       "  </thead>\n",
       "  <tbody>\n",
       "    <tr>\n",
       "      <th>0</th>\n",
       "      <td>-0.232495+0.000000j</td>\n",
       "      <td>0.445747+0.000000j</td>\n",
       "      <td>0.146497+0.377184j</td>\n",
       "      <td>0.146497-0.377184j</td>\n",
       "    </tr>\n",
       "    <tr>\n",
       "      <th>1</th>\n",
       "      <td>-0.348743+0.000000j</td>\n",
       "      <td>0.090025+0.000000j</td>\n",
       "      <td>0.435929+0.112414j</td>\n",
       "      <td>0.435929-0.112414j</td>\n",
       "    </tr>\n",
       "    <tr>\n",
       "      <th>2</th>\n",
       "      <td>-0.697486+0.000000j</td>\n",
       "      <td>-0.837833+0.000000j</td>\n",
       "      <td>-0.626088+0.000000j</td>\n",
       "      <td>-0.626088-0.000000j</td>\n",
       "    </tr>\n",
       "    <tr>\n",
       "      <th>3</th>\n",
       "      <td>-0.581238+0.000000j</td>\n",
       "      <td>0.302061+0.000000j</td>\n",
       "      <td>0.043661-0.489599j</td>\n",
       "      <td>0.043661+0.489599j</td>\n",
       "    </tr>\n",
       "  </tbody>\n",
       "</table>\n",
       "</div>"
      ],
      "text/plain": [
       "                    0                   1                   2  \\\n",
       "0 -0.232495+0.000000j  0.445747+0.000000j  0.146497+0.377184j   \n",
       "1 -0.348743+0.000000j  0.090025+0.000000j  0.435929+0.112414j   \n",
       "2 -0.697486+0.000000j -0.837833+0.000000j -0.626088+0.000000j   \n",
       "3 -0.581238+0.000000j  0.302061+0.000000j  0.043661-0.489599j   \n",
       "\n",
       "                    3  \n",
       "0  0.146497-0.377184j  \n",
       "1  0.435929-0.112414j  \n",
       "2 -0.626088-0.000000j  \n",
       "3  0.043661+0.489599j  "
      ]
     },
     "execution_count": 28,
     "metadata": {},
     "output_type": "execute_result"
    }
   ],
   "source": [
    "pd.DataFrame(eigvec_eig)"
   ]
  },
  {
   "cell_type": "markdown",
   "metadata": {},
   "source": [
    "## Probamos con un Método de la Potencia adaptado a PageRank (obtenido de [Global Software Support](https://www.youtube.com/watch?v=kSmQbVxqOJc&feature=emb_title))"
   ]
  },
  {
   "cell_type": "markdown",
   "metadata": {},
   "source": [
    "Este método de la potencia se define como: \n",
    "    \n",
    "$$ PR_{t+1} = H PR_t $$\n",
    "\n",
    "Donde:\n",
    "- $H$: la matriz estocástica.\n",
    "- $PR$: PageRank de la página indicada."
   ]
  },
  {
   "cell_type": "markdown",
   "metadata": {},
   "source": [
    "#### Definimos un vector inicial \n",
    "\n",
    "El vector será de tamaño $n$ (número de nodos) y la inicialización de cada valor será $1/n$.\n",
    "\n",
    "En este caso:\n",
    "\n",
    "\\begin{align}\n",
    "    v &= \\begin{bmatrix}\n",
    "           1/4 \\\\\n",
    "           1/4 \\\\\n",
    "           1/4 \\\\\n",
    "           1/4\n",
    "         \\end{bmatrix}\n",
    "  \\end{align}"
   ]
  },
  {
   "cell_type": "code",
   "execution_count": 29,
   "metadata": {},
   "outputs": [],
   "source": [
    "v = np.ones(len(pages_links))"
   ]
  },
  {
   "cell_type": "code",
   "execution_count": 30,
   "metadata": {},
   "outputs": [],
   "source": [
    "v = v*1/len(v)"
   ]
  },
  {
   "cell_type": "code",
   "execution_count": 31,
   "metadata": {},
   "outputs": [
    {
     "name": "stdout",
     "output_type": "stream",
     "text": [
      "array([0.25, 0.25, 0.25, 0.25])\n"
     ]
    }
   ],
   "source": [
    "pprint.pprint(v)"
   ]
  },
  {
   "cell_type": "markdown",
   "metadata": {},
   "source": [
    "Para obtener el segundo vector se debe hacer:\n",
    "    \n",
    "$$v_2 = Hv$$"
   ]
  },
  {
   "cell_type": "code",
   "execution_count": 32,
   "metadata": {},
   "outputs": [
    {
     "name": "stdout",
     "output_type": "stream",
     "text": [
      "array([0.08333333, 0.20833333, 0.375     , 0.33333333])\n"
     ]
    }
   ],
   "source": [
    "v_2 = H@v\n",
    "\n",
    "pprint.pprint(v_2)"
   ]
  },
  {
   "cell_type": "markdown",
   "metadata": {},
   "source": [
    "Para obtener el tercer vector:\n",
    "    \n",
    "$$ v_3 = Hv_2 = H(Hv) = H^2v$$"
   ]
  },
  {
   "cell_type": "code",
   "execution_count": 33,
   "metadata": {},
   "outputs": [
    {
     "name": "stdout",
     "output_type": "stream",
     "text": [
      "array([0.125     , 0.16666667, 0.375     , 0.33333333])\n"
     ]
    }
   ],
   "source": [
    "v_3  = H@v_2\n",
    "\n",
    "pprint.pprint(v_3)"
   ]
  },
  {
   "cell_type": "code",
   "execution_count": 34,
   "metadata": {},
   "outputs": [
    {
     "name": "stdout",
     "output_type": "stream",
     "text": [
      "array([0.125     , 0.16666667, 0.375     , 0.33333333])\n"
     ]
    }
   ],
   "source": [
    "v_3_r = (H@H)@v\n",
    "\n",
    "pprint.pprint(v_3_r)"
   ]
  },
  {
   "cell_type": "markdown",
   "metadata": {},
   "source": [
    "Entonces, observamos que se puede representar de la forma: \n",
    "$$v_n = H^{n}v$$\n",
    "\n",
    "Si iteramos varias veces tiende a un valor equilibrado:"
   ]
  },
  {
   "cell_type": "code",
   "execution_count": 35,
   "metadata": {},
   "outputs": [],
   "source": [
    "n = 20\n",
    "H = np.linalg.matrix_power(H, n)\n",
    "v_n = H@v"
   ]
  },
  {
   "cell_type": "code",
   "execution_count": 36,
   "metadata": {},
   "outputs": [
    {
     "data": {
      "text/plain": [
       "array([0.12500368, 0.18750089, 0.37499297, 0.31250246])"
      ]
     },
     "execution_count": 36,
     "metadata": {},
     "output_type": "execute_result"
    }
   ],
   "source": [
    "v_n"
   ]
  },
  {
   "cell_type": "code",
   "execution_count": 37,
   "metadata": {},
   "outputs": [],
   "source": [
    "df = pd.DataFrame(v_n, columns=['pagerank'])"
   ]
  },
  {
   "cell_type": "code",
   "execution_count": 38,
   "metadata": {},
   "outputs": [],
   "source": [
    "df['nodo'] = nodos"
   ]
  },
  {
   "cell_type": "code",
   "execution_count": 39,
   "metadata": {},
   "outputs": [],
   "source": [
    "df = df.set_index('nodo')"
   ]
  },
  {
   "cell_type": "code",
   "execution_count": 40,
   "metadata": {},
   "outputs": [],
   "source": [
    "power_method = df.pagerank.to_dict()"
   ]
  },
  {
   "cell_type": "code",
   "execution_count": 41,
   "metadata": {},
   "outputs": [
    {
     "data": {
      "text/plain": [
       "{'A': 0.1250036838777434,\n",
       " 'B': 0.18750089306127105,\n",
       " 'C': 0.37499296714248953,\n",
       " 'D': 0.3125024559184955}"
      ]
     },
     "execution_count": 41,
     "metadata": {},
     "output_type": "execute_result"
    }
   ],
   "source": [
    "power_method"
   ]
  },
  {
   "cell_type": "code",
   "execution_count": 42,
   "metadata": {},
   "outputs": [],
   "source": [
    "power_method_round = {} \n",
    "\n",
    "for node in power_method:\n",
    "    if node in power_method:\n",
    "        power_method_round[node] = round(power_method[node],2)"
   ]
  },
  {
   "cell_type": "code",
   "execution_count": 43,
   "metadata": {},
   "outputs": [
    {
     "data": {
      "text/plain": [
       "{'A': 0.13, 'B': 0.19, 'C': 0.37, 'D': 0.31}"
      ]
     },
     "execution_count": 43,
     "metadata": {},
     "output_type": "execute_result"
    }
   ],
   "source": [
    "power_method_round"
   ]
  },
  {
   "cell_type": "markdown",
   "metadata": {},
   "source": [
    "## Probamos con el Método de la Potencia visto en clase"
   ]
  },
  {
   "cell_type": "code",
   "execution_count": 44,
   "metadata": {},
   "outputs": [],
   "source": [
    "n = 4\n",
    "q_k = v\n",
    "max_iter = 20\n",
    "q_k_iter = np.zeros((n, max_iter))\n",
    "lambda_k_iter = np.zeros(max_iter)\n",
    "\n",
    "for k in range(max_iter):\n",
    "    z_k = H@q_k\n",
    "    q_k = z_k/np.linalg.norm(z_k)\n",
    "    q_k_iter[:,k] = q_k\n",
    "    lambda_k = q_k.T@H@q_k\n",
    "    lambda_k_iter[k] = lambda_k"
   ]
  },
  {
   "cell_type": "code",
   "execution_count": 45,
   "metadata": {},
   "outputs": [
    {
     "data": {
      "text/html": [
       "<div>\n",
       "<style scoped>\n",
       "    .dataframe tbody tr th:only-of-type {\n",
       "        vertical-align: middle;\n",
       "    }\n",
       "\n",
       "    .dataframe tbody tr th {\n",
       "        vertical-align: top;\n",
       "    }\n",
       "\n",
       "    .dataframe thead th {\n",
       "        text-align: right;\n",
       "    }\n",
       "</style>\n",
       "<table border=\"1\" class=\"dataframe\">\n",
       "  <thead>\n",
       "    <tr style=\"text-align: right;\">\n",
       "      <th></th>\n",
       "      <th>0</th>\n",
       "    </tr>\n",
       "  </thead>\n",
       "  <tbody>\n",
       "    <tr>\n",
       "      <th>0</th>\n",
       "      <td>0.232495</td>\n",
       "    </tr>\n",
       "    <tr>\n",
       "      <th>1</th>\n",
       "      <td>0.348743</td>\n",
       "    </tr>\n",
       "    <tr>\n",
       "      <th>2</th>\n",
       "      <td>0.697486</td>\n",
       "    </tr>\n",
       "    <tr>\n",
       "      <th>3</th>\n",
       "      <td>0.581238</td>\n",
       "    </tr>\n",
       "  </tbody>\n",
       "</table>\n",
       "</div>"
      ],
      "text/plain": [
       "          0\n",
       "0  0.232495\n",
       "1  0.348743\n",
       "2  0.697486\n",
       "3  0.581238"
      ]
     },
     "execution_count": 45,
     "metadata": {},
     "output_type": "execute_result"
    }
   ],
   "source": [
    "pd.DataFrame(q_k)"
   ]
  },
  {
   "cell_type": "markdown",
   "metadata": {},
   "source": [
    "## Ahora probamos con PageRank de `Networkx`"
   ]
  },
  {
   "cell_type": "markdown",
   "metadata": {},
   "source": [
    "El cálculo del eigenvector se realiza mediante el método iterativo de la potencia y no tiene garantía de convergencia. Las iteraciones se detendrán después de que se alcance una tolerancia de error de `len(G)*tol`. Si el número de iteraciones excede el número máximo de iteraciones permitido, se genera una excepción `networkx.exception.PowerIterationFailedConvergence`.\n",
    "El algoritmo PageRank fue diseñado para grafos dirigidos, pero este algoritmo no verifica si el grafo de entrada es dirigido o no, y se ejecutará en grafos no dirigidos, convirtiendo cada borde en el grafo dirigido en dos bordes."
   ]
  },
  {
   "cell_type": "code",
   "execution_count": 46,
   "metadata": {},
   "outputs": [],
   "source": [
    "from networkx.algorithms.link_analysis.pagerank_alg import pagerank"
   ]
  },
  {
   "cell_type": "code",
   "execution_count": 47,
   "metadata": {},
   "outputs": [],
   "source": [
    "pr = pagerank(G, max_iter=20)"
   ]
  },
  {
   "cell_type": "code",
   "execution_count": 48,
   "metadata": {},
   "outputs": [
    {
     "data": {
      "text/plain": [
       "{'A': 0.13867229558179425,\n",
       " 'B': 0.1976082981211456,\n",
       " 'C': 0.3570799577952133,\n",
       " 'D': 0.30663944850184677}"
      ]
     },
     "execution_count": 48,
     "metadata": {},
     "output_type": "execute_result"
    }
   ],
   "source": [
    "pr"
   ]
  },
  {
   "cell_type": "code",
   "execution_count": 50,
   "metadata": {},
   "outputs": [],
   "source": [
    "pagerank_round = {}    \n",
    "\n",
    "for node in pr:\n",
    "    if node in pr:\n",
    "        pagerank_round[node] = round(pr[node],2)"
   ]
  },
  {
   "cell_type": "code",
   "execution_count": 51,
   "metadata": {},
   "outputs": [
    {
     "data": {
      "text/plain": [
       "{'A': 0.14, 'B': 0.2, 'C': 0.36, 'D': 0.31}"
      ]
     },
     "execution_count": 51,
     "metadata": {},
     "output_type": "execute_result"
    }
   ],
   "source": [
    "pagerank_round"
   ]
  },
  {
   "cell_type": "markdown",
   "metadata": {},
   "source": [
    "## Ahora comparamos todos los resultados obtenidos"
   ]
  },
  {
   "cell_type": "code",
   "execution_count": 52,
   "metadata": {},
   "outputs": [],
   "source": [
    "pagerank_round_pd = pd.DataFrame.from_dict(pagerank_round, orient='index')"
   ]
  },
  {
   "cell_type": "code",
   "execution_count": 53,
   "metadata": {},
   "outputs": [
    {
     "data": {
      "text/html": [
       "<div>\n",
       "<style scoped>\n",
       "    .dataframe tbody tr th:only-of-type {\n",
       "        vertical-align: middle;\n",
       "    }\n",
       "\n",
       "    .dataframe tbody tr th {\n",
       "        vertical-align: top;\n",
       "    }\n",
       "\n",
       "    .dataframe thead th {\n",
       "        text-align: right;\n",
       "    }\n",
       "</style>\n",
       "<table border=\"1\" class=\"dataframe\">\n",
       "  <thead>\n",
       "    <tr style=\"text-align: right;\">\n",
       "      <th></th>\n",
       "      <th>NX PageRank</th>\n",
       "      <th>Potencia PR</th>\n",
       "      <th>Potencia OPT-2020</th>\n",
       "      <th>LinAlg</th>\n",
       "      <th>QR_Eq4</th>\n",
       "    </tr>\n",
       "  </thead>\n",
       "  <tbody>\n",
       "    <tr>\n",
       "      <th>0</th>\n",
       "      <td>0.14</td>\n",
       "      <td>0.125004</td>\n",
       "      <td>0.232495</td>\n",
       "      <td>-0.232495</td>\n",
       "      <td>0.232495</td>\n",
       "    </tr>\n",
       "    <tr>\n",
       "      <th>1</th>\n",
       "      <td>0.20</td>\n",
       "      <td>0.187501</td>\n",
       "      <td>0.348743</td>\n",
       "      <td>-0.348743</td>\n",
       "      <td>0.348743</td>\n",
       "    </tr>\n",
       "    <tr>\n",
       "      <th>2</th>\n",
       "      <td>0.36</td>\n",
       "      <td>0.374993</td>\n",
       "      <td>0.697486</td>\n",
       "      <td>-0.697486</td>\n",
       "      <td>0.697486</td>\n",
       "    </tr>\n",
       "    <tr>\n",
       "      <th>3</th>\n",
       "      <td>0.31</td>\n",
       "      <td>0.312502</td>\n",
       "      <td>0.581238</td>\n",
       "      <td>-0.581238</td>\n",
       "      <td>0.581238</td>\n",
       "    </tr>\n",
       "  </tbody>\n",
       "</table>\n",
       "</div>"
      ],
      "text/plain": [
       "   NX PageRank  Potencia PR  Potencia OPT-2020    LinAlg    QR_Eq4\n",
       "0         0.14     0.125004           0.232495 -0.232495  0.232495\n",
       "1         0.20     0.187501           0.348743 -0.348743  0.348743\n",
       "2         0.36     0.374993           0.697486 -0.697486  0.697486\n",
       "3         0.31     0.312502           0.581238 -0.581238  0.581238"
      ]
     },
     "execution_count": 53,
     "metadata": {},
     "output_type": "execute_result"
    }
   ],
   "source": [
    "eigvector_comparison = pd.DataFrame({\"NX PageRank\": pagerank_round_pd[0],\n",
    "                                    \"Potencia PR\": v_n,\n",
    "                                    \"Potencia OPT-2020\": q_k,\n",
    "                                    \"LinAlg\": eigvec_eig[:,0].real,\n",
    "                                    \"QR_Eq4\": eigvec[:,0]}\n",
    "                                    ).reset_index().iloc[:,1:]\n",
    "eigvector_comparison"
   ]
  },
  {
   "cell_type": "markdown",
   "metadata": {},
   "source": [
    "En la tabla anterior podemos apreciar que tanto el eigenvector obtenido por `Networkx` como el obtenido por el método de la potencia adaptado son muy parecidos. De hecho, éstos son factores de los vectores obtenidos con los otros 3 métodos. Adicionalmente, se aprecia que el orden se mantiene, por lo que se confirma que los PageRanks obtenidos son los correctos."
   ]
  },
  {
   "cell_type": "markdown",
   "metadata": {},
   "source": [
    "#### Comparamos método de la potencia vs `pagerank_alg.pagerank`"
   ]
  },
  {
   "cell_type": "code",
   "execution_count": 54,
   "metadata": {},
   "outputs": [],
   "source": [
    "assert pagerank_round == approx(power_method_round, rel=2e-1)"
   ]
  },
  {
   "cell_type": "markdown",
   "metadata": {},
   "source": [
    "## Mismo grafo con el  PageRank obtenido por el método de la potencia"
   ]
  },
  {
   "cell_type": "code",
   "execution_count": 55,
   "metadata": {},
   "outputs": [
    {
     "name": "stdout",
     "output_type": "stream",
     "text": [
      "{'A': 'A:0.13', 'B': 'B:0.19', 'C': 'C:0.37', 'D': 'D:0.31'}\n"
     ]
    },
    {
     "data": {
      "image/png": "[encoded data removed]",
      "text/plain": [
       "<Figure size 576x576 with 1 Axes>"
      ]
     },
     "metadata": {},
     "output_type": "display_data"
    }
   ],
   "source": [
    "plt.figure(figsize=(8,8))\n",
    "G = nx.DiGraph()\n",
    "\n",
    "for nodo in power_method:\n",
    "    G.add_node(nodo)\n",
    "\n",
    "for page, outlinks in zip(pages_links['pagina'],pages_links['outlinks']):\n",
    "    for outlink in outlinks:\n",
    "        G.add_edge(page, outlink)\n",
    "\n",
    "pos = nx.spring_layout(G)\n",
    "\n",
    "labels = {}    \n",
    "for node in G.nodes():\n",
    "    if node in power_method:\n",
    "        #set the node name as the key and the label as its value \n",
    "        labels[node] = \"{}:{}\".format(node,round(power_method[node],2))\n",
    "\n",
    "# Es lo mismo que power_method pero redondeado        \n",
    "print(labels)\n",
    "\n",
    "nx.draw_networkx_nodes(G, pos, node_color='#a0a88a', node_size=400)\n",
    "nx.draw_networkx_labels(G, pos, labels=labels, font_weight=\"bold\")\n",
    "nx.draw_networkx_edges(G, pos, edge_color='#305029', width=1.8, arrows = True, style='dashed')\n",
    "\n",
    "plt.show()"
   ]
  },
  {
   "cell_type": "markdown",
   "metadata": {},
   "source": [
    "Entonces podemos observar que la página con mayor puntuación es la `C`."
   ]
  },
  {
   "cell_type": "markdown",
   "metadata": {},
   "source": [
    "## Ahora intentaremos con otro set de datos (37 páginas)\n",
    "\n",
    "[set de datos de Stanford](http://snap.stanford.edu/data/web-Stanford.html)"
   ]
  },
  {
   "cell_type": "code",
   "execution_count": 60,
   "metadata": {},
   "outputs": [],
   "source": [
    "path = \"../data/web-Stanford.txt\""
   ]
  },
  {
   "cell_type": "code",
   "execution_count": 61,
   "metadata": {},
   "outputs": [],
   "source": [
    "def read_csv_Stanford(path, nrow=103):\n",
    "    \"\"\"\n",
    "    Read the txt given, only works for web-Stanford \n",
    "    \"\"\"\n",
    "    df = pd.read_csv(path, nrows=nrow)#, usecols=['FromNode', 'ToNode'])\n",
    "    # Remove the index\n",
    "    df = df[3:]\n",
    "    df = df.rename(columns = {'# Directed graph (each unordered pair of nodes is saved once): web-Stanford.txt ': \n",
    "                         'FromTo'})\n",
    "    df[['FromNode','ToNode']] = df.FromTo.str.split('\\t',expand=True) \n",
    "    df = df.drop('FromTo', axis=1)\n",
    "    return df"
   ]
  },
  {
   "cell_type": "code",
   "execution_count": 63,
   "metadata": {},
   "outputs": [],
   "source": [
    "df_stanford = read_csv_Stanford(path,103)"
   ]
  },
  {
   "cell_type": "code",
   "execution_count": 64,
   "metadata": {},
   "outputs": [
    {
     "data": {
      "text/html": [
       "<div>\n",
       "<style scoped>\n",
       "    .dataframe tbody tr th:only-of-type {\n",
       "        vertical-align: middle;\n",
       "    }\n",
       "\n",
       "    .dataframe tbody tr th {\n",
       "        vertical-align: top;\n",
       "    }\n",
       "\n",
       "    .dataframe thead th {\n",
       "        text-align: right;\n",
       "    }\n",
       "</style>\n",
       "<table border=\"1\" class=\"dataframe\">\n",
       "  <thead>\n",
       "    <tr style=\"text-align: right;\">\n",
       "      <th></th>\n",
       "      <th>FromNode</th>\n",
       "      <th>ToNode</th>\n",
       "    </tr>\n",
       "  </thead>\n",
       "  <tbody>\n",
       "    <tr>\n",
       "      <th>3</th>\n",
       "      <td>1</td>\n",
       "      <td>6548</td>\n",
       "    </tr>\n",
       "    <tr>\n",
       "      <th>4</th>\n",
       "      <td>1</td>\n",
       "      <td>15409</td>\n",
       "    </tr>\n",
       "    <tr>\n",
       "      <th>5</th>\n",
       "      <td>6548</td>\n",
       "      <td>57031</td>\n",
       "    </tr>\n",
       "    <tr>\n",
       "      <th>6</th>\n",
       "      <td>15409</td>\n",
       "      <td>13102</td>\n",
       "    </tr>\n",
       "    <tr>\n",
       "      <th>7</th>\n",
       "      <td>2</td>\n",
       "      <td>17794</td>\n",
       "    </tr>\n",
       "    <tr>\n",
       "      <th>...</th>\n",
       "      <td>...</td>\n",
       "      <td>...</td>\n",
       "    </tr>\n",
       "    <tr>\n",
       "      <th>98</th>\n",
       "      <td>74361</td>\n",
       "      <td>226411</td>\n",
       "    </tr>\n",
       "    <tr>\n",
       "      <th>99</th>\n",
       "      <td>74361</td>\n",
       "      <td>239874</td>\n",
       "    </tr>\n",
       "    <tr>\n",
       "      <th>100</th>\n",
       "      <td>74361</td>\n",
       "      <td>255694</td>\n",
       "    </tr>\n",
       "    <tr>\n",
       "      <th>101</th>\n",
       "      <td>74361</td>\n",
       "      <td>264216</td>\n",
       "    </tr>\n",
       "    <tr>\n",
       "      <th>102</th>\n",
       "      <td>74361</td>\n",
       "      <td>266083</td>\n",
       "    </tr>\n",
       "  </tbody>\n",
       "</table>\n",
       "<p>100 rows × 2 columns</p>\n",
       "</div>"
      ],
      "text/plain": [
       "    FromNode  ToNode\n",
       "3          1    6548\n",
       "4          1   15409\n",
       "5       6548   57031\n",
       "6      15409   13102\n",
       "7          2   17794\n",
       "..       ...     ...\n",
       "98     74361  226411\n",
       "99     74361  239874\n",
       "100    74361  255694\n",
       "101    74361  264216\n",
       "102    74361  266083\n",
       "\n",
       "[100 rows x 2 columns]"
      ]
     },
     "execution_count": 64,
     "metadata": {},
     "output_type": "execute_result"
    }
   ],
   "source": [
    "df_stanford"
   ]
  },
  {
   "cell_type": "code",
   "execution_count": 65,
   "metadata": {},
   "outputs": [],
   "source": [
    "def transform_data():\n",
    "    \"\"\"\n",
    "    Transform the nodes that are not in the FromNode and ToNode match\n",
    "    This only works for 103 nrows\n",
    "    \"\"\"\n",
    "    missing_from = list(set(df_stanford['FromNode']) - set(df_stanford['ToNode']) )\n",
    "    missing_to = list(set(df_stanford['ToNode'])  - set(df_stanford['FromNode']) )\n",
    "    mitad = int(len(missing_to)/2)\n",
    "    for val in missing_to[:mitad]:\n",
    "        df_stanford['ToNode'][df_stanford['ToNode'] == val] = missing_from[0]\n",
    "    for val in missing_to[mitad:]:\n",
    "        df_stanford['ToNode'][df_stanford['ToNode'] == val] = missing_from[1]"
   ]
  },
  {
   "cell_type": "code",
   "execution_count": 66,
   "metadata": {},
   "outputs": [],
   "source": [
    "transform_data()"
   ]
  },
  {
   "cell_type": "code",
   "execution_count": 67,
   "metadata": {},
   "outputs": [],
   "source": [
    "# Hacemos una agrupación y la lista de los outlinks\n",
    "paginas_stanford = df_stanford.groupby('FromNode').aggregate(lambda tdf: tdf.unique().tolist()).reset_index()"
   ]
  },
  {
   "cell_type": "code",
   "execution_count": 68,
   "metadata": {},
   "outputs": [],
   "source": [
    "paginas_stanford = paginas_stanford.rename(columns={'FromNode': 'pagina',\n",
    "                                                    'ToNode': 'outlinks'})"
   ]
  },
  {
   "cell_type": "code",
   "execution_count": 69,
   "metadata": {},
   "outputs": [
    {
     "data": {
      "text/html": [
       "<div>\n",
       "<style scoped>\n",
       "    .dataframe tbody tr th:only-of-type {\n",
       "        vertical-align: middle;\n",
       "    }\n",
       "\n",
       "    .dataframe tbody tr th {\n",
       "        vertical-align: top;\n",
       "    }\n",
       "\n",
       "    .dataframe thead th {\n",
       "        text-align: right;\n",
       "    }\n",
       "</style>\n",
       "<table border=\"1\" class=\"dataframe\">\n",
       "  <thead>\n",
       "    <tr style=\"text-align: right;\">\n",
       "      <th></th>\n",
       "      <th>pagina</th>\n",
       "      <th>outlinks</th>\n",
       "    </tr>\n",
       "  </thead>\n",
       "  <tbody>\n",
       "    <tr>\n",
       "      <th>0</th>\n",
       "      <td>1</td>\n",
       "      <td>[6548, 15409]</td>\n",
       "    </tr>\n",
       "    <tr>\n",
       "      <th>1</th>\n",
       "      <td>100193</td>\n",
       "      <td>[2]</td>\n",
       "    </tr>\n",
       "    <tr>\n",
       "      <th>2</th>\n",
       "      <td>102355</td>\n",
       "      <td>[2]</td>\n",
       "    </tr>\n",
       "    <tr>\n",
       "      <th>3</th>\n",
       "      <td>105318</td>\n",
       "      <td>[2]</td>\n",
       "    </tr>\n",
       "    <tr>\n",
       "      <th>4</th>\n",
       "      <td>105730</td>\n",
       "      <td>[2, 3]</td>\n",
       "    </tr>\n",
       "    <tr>\n",
       "      <th>5</th>\n",
       "      <td>115926</td>\n",
       "      <td>[2]</td>\n",
       "    </tr>\n",
       "    <tr>\n",
       "      <th>6</th>\n",
       "      <td>140864</td>\n",
       "      <td>[2]</td>\n",
       "    </tr>\n",
       "    <tr>\n",
       "      <th>7</th>\n",
       "      <td>15409</td>\n",
       "      <td>[3]</td>\n",
       "    </tr>\n",
       "    <tr>\n",
       "      <th>8</th>\n",
       "      <td>163550</td>\n",
       "      <td>[2]</td>\n",
       "    </tr>\n",
       "    <tr>\n",
       "      <th>9</th>\n",
       "      <td>164599</td>\n",
       "      <td>[2]</td>\n",
       "    </tr>\n",
       "  </tbody>\n",
       "</table>\n",
       "</div>"
      ],
      "text/plain": [
       "   pagina       outlinks\n",
       "0       1  [6548, 15409]\n",
       "1  100193            [2]\n",
       "2  102355            [2]\n",
       "3  105318            [2]\n",
       "4  105730         [2, 3]\n",
       "5  115926            [2]\n",
       "6  140864            [2]\n",
       "7   15409            [3]\n",
       "8  163550            [2]\n",
       "9  164599            [2]"
      ]
     },
     "execution_count": 69,
     "metadata": {},
     "output_type": "execute_result"
    }
   ],
   "source": [
    "paginas_stanford.head(10)"
   ]
  },
  {
   "cell_type": "code",
   "execution_count": 70,
   "metadata": {},
   "outputs": [
    {
     "data": {
      "text/plain": [
       "(37, 2)"
      ]
     },
     "execution_count": 70,
     "metadata": {},
     "output_type": "execute_result"
    }
   ],
   "source": [
    "paginas_stanford.shape"
   ]
  },
  {
   "cell_type": "code",
   "execution_count": 71,
   "metadata": {},
   "outputs": [],
   "source": [
    "def plot_node_graph(dataframe_pages, power_method=None, with_labels=False):\n",
    "    \"\"\"\n",
    "    Plotea el grafo\n",
    "    :param[in] dataframe_pages: dataframe de nx2\n",
    "                El dataframe debe contener una columna llamada página y otra llamada outlinks;\n",
    "                donde outlinks contenga una lista de los outlinks por página\n",
    "    \"\"\"\n",
    "    nodos = dataframe_pages['pagina']\n",
    "\n",
    "    plt.figure(figsize=(10,10))\n",
    "    G = nx.DiGraph()\n",
    "\n",
    "    for nodo in nodos:\n",
    "        G.add_node(nodo)\n",
    "\n",
    "    for page, outlinks in zip(dataframe_pages['pagina'], dataframe_pages['outlinks']):\n",
    "        for outlink in outlinks:\n",
    "            G.add_edge(page, outlink)\n",
    "\n",
    "    pos = nx.spring_layout(G)\n",
    "\n",
    "\n",
    "    nx.draw_networkx_nodes(G, pos, node_color='#a0a88a', node_size=400)\n",
    "    if with_labels:\n",
    "        labels = {}    \n",
    "        for node in G.nodes():\n",
    "            if node in power_method:\n",
    "                #set the node name as the key and the label as its value \n",
    "                labels[node] = \"{}:{}\".format(node,round(power_method[node],2))\n",
    "        nx.draw_networkx_labels(G, pos, labels=labels, font_weight=\"bold\")\n",
    "    else:\n",
    "        nx.draw_networkx_labels(G, pos)\n",
    "    nx.draw_networkx_edges(G, pos, edge_color='#305029', width=1.8, arrows = True, style='dashed')\n",
    "\n",
    "    plt.show()\n",
    "    return G"
   ]
  },
  {
   "cell_type": "code",
   "execution_count": 72,
   "metadata": {},
   "outputs": [
    {
     "data": {
      "image/png": "[encoded data removed]",
      "text/plain": [
       "<Figure size 720x720 with 1 Axes>"
      ]
     },
     "metadata": {},
     "output_type": "display_data"
    }
   ],
   "source": [
    "G37 = plot_node_graph(paginas_stanford)"
   ]
  },
  {
   "cell_type": "markdown",
   "metadata": {},
   "source": [
    "#### Definimos nuestra matriz estocástica"
   ]
  },
  {
   "cell_type": "code",
   "execution_count": 73,
   "metadata": {},
   "outputs": [],
   "source": [
    "def get_h_matrix(dataframe_pages):\n",
    "    \"\"\"\n",
    "    Obtiene la matriz H, la matriz estocástica\n",
    "    :param[in] dataframe_pages: dataframe de nx2\n",
    "                El dataframe debe contener una columna llamada página y otra llamada outlinks;\n",
    "                donde outlinks contenga una lista de los outlinks por página\n",
    "    \"\"\"\n",
    "    sparseMatrix = csr_matrix((len(dataframe_pages), len(dataframe_pages)),  \n",
    "                          dtype = np.float).toarray() \n",
    "    newdf = pd.DataFrame(sparseMatrix, columns = dataframe_pages['pagina'], index=dataframe_pages['pagina'])\n",
    "    count = 0\n",
    "    for page, outlinks in zip(dataframe_pages['pagina'],dataframe_pages['outlinks']):\n",
    "        score = 1/len(outlinks)\n",
    "        dict_page = {page: np.zeros(len(dataframe_pages))}\n",
    "        for outlink in outlinks:\n",
    "            newdf[page][outlink] = score\n",
    "    H = newdf.to_numpy()\n",
    "    return H"
   ]
  },
  {
   "cell_type": "code",
   "execution_count": 74,
   "metadata": {},
   "outputs": [],
   "source": [
    "H37 = get_h_matrix(paginas_stanford)"
   ]
  },
  {
   "cell_type": "code",
   "execution_count": 75,
   "metadata": {},
   "outputs": [
    {
     "data": {
      "text/plain": [
       "(37, 37)"
      ]
     },
     "execution_count": 75,
     "metadata": {},
     "output_type": "execute_result"
    }
   ],
   "source": [
    "H37.shape"
   ]
  },
  {
   "cell_type": "code",
   "execution_count": 113,
   "metadata": {},
   "outputs": [],
   "source": [
    "from networkx.algorithms.link_analysis.pagerank_alg import google_matrix"
   ]
  },
  {
   "cell_type": "code",
   "execution_count": 116,
   "metadata": {},
   "outputs": [],
   "source": [
    "matrix_37 = google_matrix(G37, nodelist=paginas_stanford.pagina)"
   ]
  },
  {
   "cell_type": "code",
   "execution_count": 117,
   "metadata": {},
   "outputs": [],
   "source": [
    "A_37 = matrix_37.T"
   ]
  },
  {
   "cell_type": "markdown",
   "metadata": {},
   "source": [
    "### Obtenemos PageRank por el Método de la Potencia adaptado a PR"
   ]
  },
  {
   "cell_type": "code",
   "execution_count": 133,
   "metadata": {},
   "outputs": [],
   "source": [
    "def power_method_pagerank(dataframe_pages, H, iteraciones):\n",
    "    \"\"\"\n",
    "    Obtiene el pagerank \n",
    "    :param[in] dataframe_pages: dataframe de nx2\n",
    "                El dataframe debe contener una columna llamada página y otra llamada outlinks;\n",
    "                donde outlinks contenga una lista de los outlinks por página\n",
    "    :param[in] H: Matriz estocástica\n",
    "    :param[in] iteraciones: número de iteraciones a realizar\n",
    "    \n",
    "    :return power_method: Un diccionario con la página como llave y el pagerank como valor\n",
    "    \"\"\"\n",
    "    # Obtenemos nuestro vector inicial\n",
    "    v = np.ones(len(dataframe_pages))\n",
    "    v = v*1/len(v)\n",
    "    \n",
    "    # Iteramos\n",
    "    H = np.linalg.matrix_power(H, iteraciones)\n",
    "    v_n = H@v\n",
    "    \n",
    "    # Convertimos a dataframe\n",
    "    print(v_n.shape)\n",
    "    df = pd.DataFrame(v_n.T, columns=['pagerank'])\n",
    "    \n",
    "    df['nodo'] = dataframe_pages['pagina']\n",
    "    \n",
    "    df = df.set_index('nodo')\n",
    "    \n",
    "    power_method = df.pagerank.to_dict()\n",
    "    \n",
    "    return power_method"
   ]
  },
  {
   "cell_type": "code",
   "execution_count": 134,
   "metadata": {},
   "outputs": [
    {
     "name": "stdout",
     "output_type": "stream",
     "text": [
      "(1, 37)\n"
     ]
    }
   ],
   "source": [
    "power_method_dic = power_method_pagerank(paginas_stanford, A_37, iteraciones=100)"
   ]
  },
  {
   "cell_type": "code",
   "execution_count": 135,
   "metadata": {},
   "outputs": [
    {
     "data": {
      "text/plain": [
       "{'1': 0.061027112307426655,\n",
       " '100193': 0.013330403674657298,\n",
       " '102355': 0.013330403674657298,\n",
       " '105318': 0.013330403674657298,\n",
       " '105730': 0.013330403674657298,\n",
       " '115926': 0.013330403674657298,\n",
       " '140864': 0.013330403674657298,\n",
       " '15409': 0.02999059107534843,\n",
       " '163550': 0.013330403674657298,\n",
       " '164599': 0.013330403674657298,\n",
       " '175799': 0.013330403674657298,\n",
       " '17794': 0.013330403674657298,\n",
       " '178642': 0.013330403674657298,\n",
       " '181714': 0.013330403674657298,\n",
       " '190453': 0.013330403674657298,\n",
       " '2': 0.33831392139907407,\n",
       " '204189': 0.013330403674657298,\n",
       " '204604': 0.013330403674657298,\n",
       " '210870': 0.013330403674657298,\n",
       " '213966': 0.013330403674657298,\n",
       " '225119': 0.013330403674657298,\n",
       " '241596': 0.013330403674657298,\n",
       " '243294': 0.013330403674657298,\n",
       " '246897': 0.013330403674657298,\n",
       " '251658': 0.013330403674657298,\n",
       " '25202': 0.013330403674657298,\n",
       " '252915': 0.013330403674657298,\n",
       " '280935': 0.013330403674657298,\n",
       " '3': 0.06669253378785087,\n",
       " '53625': 0.013330403674657298,\n",
       " '54582': 0.013330403674657298,\n",
       " '64930': 0.013330403674657298,\n",
       " '6548': 0.02999059107534843,\n",
       " '73764': 0.013330403674657298,\n",
       " '74361': 0.06074273644058768,\n",
       " '84477': 0.013330403674657298,\n",
       " '98628': 0.013330403674657296}"
      ]
     },
     "execution_count": 135,
     "metadata": {},
     "output_type": "execute_result"
    }
   ],
   "source": [
    "power_method_dic"
   ]
  },
  {
   "cell_type": "code",
   "execution_count": 136,
   "metadata": {},
   "outputs": [],
   "source": [
    "# Redondeamos a 2 dígitos\n",
    "power_method_round = {}    \n",
    "\n",
    "for node in power_method_dic:\n",
    "    if node in power_method_dic:\n",
    "        #set the node name as the key and the label as its value \n",
    "        power_method_round[node] = round(power_method_dic[node],2)"
   ]
  },
  {
   "cell_type": "code",
   "execution_count": 137,
   "metadata": {},
   "outputs": [
    {
     "data": {
      "image/png": "[encoded data removed]",
      "text/plain": [
       "<Figure size 720x720 with 1 Axes>"
      ]
     },
     "metadata": {},
     "output_type": "display_data"
    }
   ],
   "source": [
    "G37_pot = plot_node_graph(paginas_stanford, power_method=power_method_round, with_labels=True)"
   ]
  },
  {
   "cell_type": "markdown",
   "metadata": {},
   "source": [
    "No se puede apreciar pero:"
   ]
  },
  {
   "cell_type": "code",
   "execution_count": 138,
   "metadata": {},
   "outputs": [],
   "source": [
    "MaxKey = max(power_method_round, key=power_method_round.get)"
   ]
  },
  {
   "cell_type": "code",
   "execution_count": 139,
   "metadata": {},
   "outputs": [
    {
     "name": "stdout",
     "output_type": "stream",
     "text": [
      "la página con más rank es: 2 con un rank de 0.34\n"
     ]
    }
   ],
   "source": [
    "print(\"la página con más rank es: {} con un rank de {}\".format(MaxKey, power_method_round[MaxKey]))"
   ]
  },
  {
   "cell_type": "markdown",
   "metadata": {},
   "source": [
    "### Obtenemos PageRank con el paquete `Networkx`"
   ]
  },
  {
   "cell_type": "code",
   "execution_count": 140,
   "metadata": {},
   "outputs": [],
   "source": [
    "PR_stanford = pagerank(G37, max_iter=1000)"
   ]
  },
  {
   "cell_type": "code",
   "execution_count": 142,
   "metadata": {},
   "outputs": [],
   "source": [
    "PR_round_stanford = {} \n",
    "\n",
    "for node in PR_stanford:\n",
    "    if node in PR_stanford:\n",
    "        PR_round_stanford[node] = round(PR_stanford[node],2)"
   ]
  },
  {
   "cell_type": "code",
   "execution_count": 143,
   "metadata": {},
   "outputs": [],
   "source": [
    "MaxKeyPR = max(PR_round_stanford, key=PR_round_stanford.get)"
   ]
  },
  {
   "cell_type": "code",
   "execution_count": 144,
   "metadata": {},
   "outputs": [
    {
     "name": "stdout",
     "output_type": "stream",
     "text": [
      "La página con más rank es: 2 con un rank de 0.34\n"
     ]
    }
   ],
   "source": [
    "print(\"La página con más rank es: {} con un rank de {}\".format(MaxKeyPR, PR_round_stanford[MaxKeyPR]))"
   ]
  },
  {
   "cell_type": "markdown",
   "metadata": {},
   "source": [
    "## Obtenemos con el Método de la Potencia visto en clase"
   ]
  },
  {
   "cell_type": "code",
   "execution_count": 196,
   "metadata": {},
   "outputs": [],
   "source": [
    "def power_method_opt_pagerank(dataframe_pages, H, iteraciones):\n",
    "    \"\"\"\n",
    "    Obtiene el pagerank \n",
    "    :param[in] dataframe_pages: dataframe de nx2\n",
    "                El dataframe debe contener una columna llamada página y otra llamada outlinks;\n",
    "                donde outlinks contenga una lista de los outlinks por página\n",
    "    :param[in] H: Matriz estocástica\n",
    "    :param[in] iteraciones: número de iteraciones a realizar\n",
    "    \n",
    "    :return power_method: Un diccionario con la página como llave y el pagerank como valor\n",
    "    \"\"\"\n",
    "    # Obtenemos nuestro vector inicial\n",
    "    v = np.ones(len(dataframe_pages))\n",
    "    v = v*1/len(v)\n",
    "    \n",
    "    n = len(v)\n",
    "    q_k = v\n",
    "    q_k = q_k.reshape(n,1)\n",
    "    max_iter = iteraciones\n",
    "\n",
    "    for k in range(max_iter):\n",
    "        z_k = H@q_k\n",
    "        q_k = z_k/np.linalg.norm(z_k)\n",
    "        lambda_k = q_k.T @ H @ q_k\n",
    "    \n",
    "    # Convertimos a dataframe\n",
    "    df = pd.DataFrame(q_k, columns=['pagerank'])\n",
    "    \n",
    "    df['nodo'] = dataframe_pages['pagina']\n",
    "    \n",
    "    df = df.set_index('nodo')\n",
    "    \n",
    "    power_method_opt = df.pagerank.to_dict()\n",
    "    \n",
    "    return power_method_opt"
   ]
  },
  {
   "cell_type": "code",
   "execution_count": 210,
   "metadata": {},
   "outputs": [],
   "source": [
    "power_method_opt_dictionary = power_method_opt_pagerank(paginas_stanford, A_37, iteraciones=100)"
   ]
  },
  {
   "cell_type": "code",
   "execution_count": 201,
   "metadata": {},
   "outputs": [],
   "source": [
    "MaxKey_pot_opt = max(power_method_opt_dictionary, key=power_method_opt_dictionary.get)"
   ]
  },
  {
   "cell_type": "code",
   "execution_count": 202,
   "metadata": {},
   "outputs": [
    {
     "name": "stdout",
     "output_type": "stream",
     "text": [
      "La página con más rank es: 2 con un rank de 0.9254965134678516\n"
     ]
    }
   ],
   "source": [
    "print(\"La página con más rank es: {} con un rank de {}\".format(MaxKey_pot_opt, power_method_opt_dictionary[MaxKey_pot_opt]))"
   ]
  },
  {
   "cell_type": "markdown",
   "metadata": {},
   "source": [
    "## Comparando resultados"
   ]
  },
  {
   "cell_type": "code",
   "execution_count": null,
   "metadata": {},
   "outputs": [],
   "source": [
    "power_method_pd = pd.DataFrame.from_dict(power_method_dic, orient='index')"
   ]
  },
  {
   "cell_type": "code",
   "execution_count": null,
   "metadata": {},
   "outputs": [],
   "source": []
  },
  {
   "cell_type": "code",
   "execution_count": null,
   "metadata": {},
   "outputs": [],
   "source": []
  },
  {
   "cell_type": "code",
   "execution_count": null,
   "metadata": {},
   "outputs": [],
   "source": [
    "eigvector_comparison_37 = pd.DataFrame({\"NX PageRank\": pagerank_round_pd[0],\n",
    "                                    \"Potencia PR\": v_n,\n",
    "                                    \"Potencia OPT-2020\": q_k,\n",
    "                                    \"LinAlg\": eigvec_eig[:,0].real}\n",
    "                                    ).reset_index().iloc[:,1:]\n",
    "eigvector_comparison_37"
   ]
  },
  {
   "cell_type": "markdown",
   "metadata": {},
   "source": [
    "## Nota: \n",
    "\n",
    "Para obtener los mismos resultados con tres algoritmos (NetworkX, método de la potencia adaptado, y método de la potencia visto en clase), fue necesario generar la matriz de Google a partir de la matriz de adyacencias. Los algoritmos del método de la potencia se aplicaron sobre la matriz de Google para obtener su eigenvector, de esta manera, los 3 algoritmos identificaron a la página \"2\" como la de mayor rank.\n",
    "\n",
    "\n",
    "La matriz de Google considera el factor de amortiguación a los nodos que no tienen outlinks, lo que ayuda a que no se vean beneficiados por lo mismo. Sin aplicar la matriz de Google, los métodos de la potencia identificaban al nodo \"74361\" como el de mayor rank; se puede apreciar en el grafo que ese nodo no cuenta con outlinks, y sí cuenta con varios inlinks. Sin embargo, intuitivamente a partir del grafo, se puede apreciar que el nodo \"2\" debería ser el que tiene mayor Rank. La función de `pagerank` de NetworkX ya considera un factor de amortiguación por default, por lo que arrojaba un resultado distinto al de los métodos de la potencia sin ser aplicados a la matriz de Google.\n",
    "\n",
    "\n",
    "Desgraciadamente, no fue posible utilizar el algoritmo desarrollado por el equipo durante la práctia 1.2 para obtener los eigenvalores a partir de la factorización QR para la matriz de adyacencias de 37 páginas."
   ]
  },
  {
   "cell_type": "markdown",
   "metadata": {},
   "source": [
    "## Obtenemos con el algoritmo QR implementado en la Práctica 1.2"
   ]
  },
  {
   "cell_type": "code",
   "execution_count": 215,
   "metadata": {},
   "outputs": [
    {
     "ename": "LinAlgError",
     "evalue": "Last 2 dimensions of the array must be square",
     "output_type": "error",
     "traceback": [
      "\u001b[0;31m\u001b[0m",
      "\u001b[0;31mLinAlgError\u001b[0mTraceback (most recent call last)",
      "\u001b[0;32m<ipython-input-215-7460afcb31c9>\u001b[0m in \u001b[0;36m<module>\u001b[0;34m\u001b[0m\n\u001b[0;32m----> 1\u001b[0;31m \u001b[0meigval37\u001b[0m\u001b[0;34m,\u001b[0m \u001b[0meigvec37\u001b[0m \u001b[0;34m=\u001b[0m \u001b[0mEig_Householder\u001b[0m\u001b[0;34m(\u001b[0m\u001b[0mA_37\u001b[0m\u001b[0;34m)\u001b[0m\u001b[0;34m\u001b[0m\u001b[0;34m\u001b[0m\u001b[0m\n\u001b[0m",
      "\u001b[0;32m<ipython-input-102-9a1d6d33797f>\u001b[0m in \u001b[0;36mEig_Householder\u001b[0;34m(A)\u001b[0m\n\u001b[1;32m     13\u001b[0m     \u001b[0mtk_fro_norm\u001b[0m \u001b[0;34m=\u001b[0m \u001b[0mnp\u001b[0m\u001b[0;34m.\u001b[0m\u001b[0mlinalg\u001b[0m\u001b[0;34m.\u001b[0m\u001b[0mnorm\u001b[0m\u001b[0;34m(\u001b[0m\u001b[0mA\u001b[0m\u001b[0;34m,\u001b[0m \u001b[0;34m'fro'\u001b[0m\u001b[0;34m)\u001b[0m\u001b[0;34m\u001b[0m\u001b[0;34m\u001b[0m\u001b[0m\n\u001b[1;32m     14\u001b[0m     \u001b[0miterations\u001b[0m \u001b[0;34m=\u001b[0m \u001b[0;36m0\u001b[0m\u001b[0;34m\u001b[0m\u001b[0;34m\u001b[0m\u001b[0m\n\u001b[0;32m---> 15\u001b[0;31m     \u001b[0moff_Tk\u001b[0m \u001b[0;34m=\u001b[0m \u001b[0moff\u001b[0m\u001b[0;34m(\u001b[0m\u001b[0mA\u001b[0m\u001b[0;34m)\u001b[0m\u001b[0;34m\u001b[0m\u001b[0;34m\u001b[0m\u001b[0m\n\u001b[0m\u001b[1;32m     16\u001b[0m \u001b[0;34m\u001b[0m\u001b[0m\n\u001b[1;32m     17\u001b[0m     \u001b[0mq_aux\u001b[0m \u001b[0;34m=\u001b[0m \u001b[0;34m[\u001b[0m\u001b[0;34m]\u001b[0m\u001b[0;34m\u001b[0m\u001b[0;34m\u001b[0m\u001b[0m\n",
      "\u001b[0;32m<ipython-input-18-4826e8f29fad>\u001b[0m in \u001b[0;36moff\u001b[0;34m(T)\u001b[0m\n\u001b[1;32m      9\u001b[0m     \u001b[0;32mfor\u001b[0m \u001b[0mi\u001b[0m \u001b[0;32min\u001b[0m \u001b[0mrange\u001b[0m \u001b[0;34m(\u001b[0m\u001b[0;36m0\u001b[0m\u001b[0;34m,\u001b[0m\u001b[0mlen\u001b[0m\u001b[0;34m(\u001b[0m\u001b[0mT_sin_dig\u001b[0m\u001b[0;34m)\u001b[0m\u001b[0;34m)\u001b[0m\u001b[0;34m:\u001b[0m\u001b[0;34m\u001b[0m\u001b[0;34m\u001b[0m\u001b[0m\n\u001b[1;32m     10\u001b[0m         \u001b[0;31m# print (T_sin_dig[i])\u001b[0m\u001b[0;34m\u001b[0m\u001b[0;34m\u001b[0m\u001b[0;34m\u001b[0m\u001b[0m\n\u001b[0;32m---> 11\u001b[0;31m         \u001b[0msum\u001b[0m \u001b[0;34m+=\u001b[0m \u001b[0mT_sin_dig\u001b[0m\u001b[0;34m[\u001b[0m\u001b[0mi\u001b[0m\u001b[0;34m]\u001b[0m\u001b[0;34m**\u001b[0m\u001b[0;36m2\u001b[0m\u001b[0;34m\u001b[0m\u001b[0;34m\u001b[0m\u001b[0m\n\u001b[0m\u001b[1;32m     12\u001b[0m     \u001b[0moff_T\u001b[0m \u001b[0;34m=\u001b[0m \u001b[0mnp\u001b[0m\u001b[0;34m.\u001b[0m\u001b[0msqrt\u001b[0m\u001b[0;34m(\u001b[0m\u001b[0msum\u001b[0m\u001b[0;34m)\u001b[0m\u001b[0;34m\u001b[0m\u001b[0;34m\u001b[0m\u001b[0m\n\u001b[1;32m     13\u001b[0m \u001b[0;34m\u001b[0m\u001b[0m\n",
      "\u001b[0;32m~/.local/lib/python3.6/site-packages/numpy/matrixlib/defmatrix.py\u001b[0m in \u001b[0;36m__pow__\u001b[0;34m(self, other)\u001b[0m\n\u001b[1;32m    229\u001b[0m \u001b[0;34m\u001b[0m\u001b[0m\n\u001b[1;32m    230\u001b[0m     \u001b[0;32mdef\u001b[0m \u001b[0m__pow__\u001b[0m\u001b[0;34m(\u001b[0m\u001b[0mself\u001b[0m\u001b[0;34m,\u001b[0m \u001b[0mother\u001b[0m\u001b[0;34m)\u001b[0m\u001b[0;34m:\u001b[0m\u001b[0;34m\u001b[0m\u001b[0;34m\u001b[0m\u001b[0m\n\u001b[0;32m--> 231\u001b[0;31m         \u001b[0;32mreturn\u001b[0m \u001b[0mmatrix_power\u001b[0m\u001b[0;34m(\u001b[0m\u001b[0mself\u001b[0m\u001b[0;34m,\u001b[0m \u001b[0mother\u001b[0m\u001b[0;34m)\u001b[0m\u001b[0;34m\u001b[0m\u001b[0;34m\u001b[0m\u001b[0m\n\u001b[0m\u001b[1;32m    232\u001b[0m \u001b[0;34m\u001b[0m\u001b[0m\n\u001b[1;32m    233\u001b[0m     \u001b[0;32mdef\u001b[0m \u001b[0m__ipow__\u001b[0m\u001b[0;34m(\u001b[0m\u001b[0mself\u001b[0m\u001b[0;34m,\u001b[0m \u001b[0mother\u001b[0m\u001b[0;34m)\u001b[0m\u001b[0;34m:\u001b[0m\u001b[0;34m\u001b[0m\u001b[0;34m\u001b[0m\u001b[0m\n",
      "\u001b[0;32m<__array_function__ internals>\u001b[0m in \u001b[0;36mmatrix_power\u001b[0;34m(*args, **kwargs)\u001b[0m\n",
      "\u001b[0;32m~/.local/lib/python3.6/site-packages/numpy/linalg/linalg.py\u001b[0m in \u001b[0;36mmatrix_power\u001b[0;34m(a, n)\u001b[0m\n\u001b[1;32m    619\u001b[0m     \u001b[0ma\u001b[0m \u001b[0;34m=\u001b[0m \u001b[0masanyarray\u001b[0m\u001b[0;34m(\u001b[0m\u001b[0ma\u001b[0m\u001b[0;34m)\u001b[0m\u001b[0;34m\u001b[0m\u001b[0;34m\u001b[0m\u001b[0m\n\u001b[1;32m    620\u001b[0m     \u001b[0m_assert_stacked_2d\u001b[0m\u001b[0;34m(\u001b[0m\u001b[0ma\u001b[0m\u001b[0;34m)\u001b[0m\u001b[0;34m\u001b[0m\u001b[0;34m\u001b[0m\u001b[0m\n\u001b[0;32m--> 621\u001b[0;31m     \u001b[0m_assert_stacked_square\u001b[0m\u001b[0;34m(\u001b[0m\u001b[0ma\u001b[0m\u001b[0;34m)\u001b[0m\u001b[0;34m\u001b[0m\u001b[0;34m\u001b[0m\u001b[0m\n\u001b[0m\u001b[1;32m    622\u001b[0m \u001b[0;34m\u001b[0m\u001b[0m\n\u001b[1;32m    623\u001b[0m     \u001b[0;32mtry\u001b[0m\u001b[0;34m:\u001b[0m\u001b[0;34m\u001b[0m\u001b[0;34m\u001b[0m\u001b[0m\n",
      "\u001b[0;32m~/.local/lib/python3.6/site-packages/numpy/linalg/linalg.py\u001b[0m in \u001b[0;36m_assert_stacked_square\u001b[0;34m(*arrays)\u001b[0m\n\u001b[1;32m    202\u001b[0m         \u001b[0mm\u001b[0m\u001b[0;34m,\u001b[0m \u001b[0mn\u001b[0m \u001b[0;34m=\u001b[0m \u001b[0ma\u001b[0m\u001b[0;34m.\u001b[0m\u001b[0mshape\u001b[0m\u001b[0;34m[\u001b[0m\u001b[0;34m-\u001b[0m\u001b[0;36m2\u001b[0m\u001b[0;34m:\u001b[0m\u001b[0;34m]\u001b[0m\u001b[0;34m\u001b[0m\u001b[0;34m\u001b[0m\u001b[0m\n\u001b[1;32m    203\u001b[0m         \u001b[0;32mif\u001b[0m \u001b[0mm\u001b[0m \u001b[0;34m!=\u001b[0m \u001b[0mn\u001b[0m\u001b[0;34m:\u001b[0m\u001b[0;34m\u001b[0m\u001b[0;34m\u001b[0m\u001b[0m\n\u001b[0;32m--> 204\u001b[0;31m             \u001b[0;32mraise\u001b[0m \u001b[0mLinAlgError\u001b[0m\u001b[0;34m(\u001b[0m\u001b[0;34m'Last 2 dimensions of the array must be square'\u001b[0m\u001b[0;34m)\u001b[0m\u001b[0;34m\u001b[0m\u001b[0;34m\u001b[0m\u001b[0m\n\u001b[0m\u001b[1;32m    205\u001b[0m \u001b[0;34m\u001b[0m\u001b[0m\n\u001b[1;32m    206\u001b[0m \u001b[0;32mdef\u001b[0m \u001b[0m_assert_finite\u001b[0m\u001b[0;34m(\u001b[0m\u001b[0;34m*\u001b[0m\u001b[0marrays\u001b[0m\u001b[0;34m)\u001b[0m\u001b[0;34m:\u001b[0m\u001b[0;34m\u001b[0m\u001b[0;34m\u001b[0m\u001b[0m\n",
      "\u001b[0;31mLinAlgError\u001b[0m: Last 2 dimensions of the array must be square"
     ]
    }
   ],
   "source": [
    "eigval37, eigvec37 = Eig_Householder(A_37)"
   ]
  },
  {
   "cell_type": "markdown",
   "metadata": {},
   "source": [
    "## Referencias\n",
    "\n",
    "- [Google Matrix](https://networkx.org/documentation/stable//reference/algorithms/generated/networkx.algorithms.link_analysis.pagerank_alg.google_matrix.html#networkx.algorithms.link_analysis.pagerank_alg.google_matrix)\n",
    "- [Código QR](https://github.com/optimizacion-2020-2-gh-classroom/practica-1-segunda-parte-graph-caroacostatovany)\n",
    "- [PageRank](https://networkx.org/documentation/stable//reference/algorithms/generated/networkx.algorithms.link_analysis.pagerank_alg.pagerank.html)\n",
    "- [Etiquetas para los nodos](https://stackoverflow.com/questions/14665767/networkx-specific-nodes-labeling)\n",
    "- [set de datos de Stanford](http://snap.stanford.edu/data/web-Stanford.html)"
   ]
  }
 ],
 "metadata": {
  "kernelspec": {
   "display_name": "Python 3",
   "language": "python",
   "name": "python3"
  },
  "language_info": {
   "codemirror_mode": {
    "name": "ipython",
    "version": 3
   },
   "file_extension": ".py",
   "mimetype": "text/x-python",
   "name": "python",
   "nbconvert_exporter": "python",
   "pygments_lexer": "ipython3",
   "version": "3.6.9"
  }
 },
 "nbformat": 4,
 "nbformat_minor": 4
}
