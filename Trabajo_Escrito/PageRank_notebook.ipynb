{
 "cells": [
  {
   "cell_type": "markdown",
   "metadata": {},
   "source": [
    "# PageRank: Eigenvectores y Eigenvalores"
   ]
  },
  {
   "cell_type": "markdown",
   "metadata": {},
   "source": [
    "## 1. Introducción"
   ]
  },
  {
   "cell_type": "markdown",
   "metadata": {},
   "source": [
    "Las búsquedas por Internet cobran cada vez más y más relevancia, por lo que los motores de búsqueda han evolucionado enormemente para atender la siempre creciente cantidad de información disponible en la red.  Uno de los precursores de los motores de búsqueda por Internet, es el algoritmo PageRank de Google.  \n",
    "\n",
    "En este trabajo se aborda el algoritmo de PageRank en su versión más simple, para entender los conceptos que lo conforman y cómo es que asigna la importancia a cada una de las páginas del resultado de una búsqueda en internet.  A este algoritmo se le conoce coloquialmente como *The 25 Billion Dollar Eigenvector*.  Revisemos los conceptos que lo conforman."
   ]
  },
  {
   "cell_type": "markdown",
   "metadata": {},
   "source": [
    "## 2. Teoría"
   ]
  },
  {
   "cell_type": "markdown",
   "metadata": {},
   "source": [
    "### 2.1 Breve introducción a Teoría de Grafos"
   ]
  },
  {
   "cell_type": "markdown",
   "metadata": {},
   "source": [
    "Un **grafo** es un par ordenado de dos conjuntos: nodos y vínculos, que se denota $G=(N,V)$. Un vínculo ${xy}$ se dice que conecta a los nodos $x$ y $y$, y es denominado $xy$. El orden de un grafo es igual a la cantidad de nodos existentes.\n",
    "\n",
    "Un **grafo orientado** se define como aquel en el que todos los vínculos que lo componen tienen una orientación definida. Teniendo dos nodos $x$ y $y$ cualesquiera, debe verificarse que debe existir como mínimo un vínculo dirigido entre ellos. Básicamente, son grafos en los cuales se ha añadido una orientación a las aristas, representada gráficamente por una flecha.\n",
    "\n",
    "El **grafo de la web** describe los enlaces dirigidos entre páginas de la red de Internet. Es un grafo orientado cuyos nodos corresponden a las páginas de Internet, y un vínculo orientado conecta la página $X$ con la página $Y$ si existe un hipervínculo en la página $X$ que refiere a la página $Y$."
   ]
  },
  {
   "cell_type": "markdown",
   "metadata": {},
   "source": [
    "#### 2.1.1 Representación de grafos"
   ]
  },
  {
   "cell_type": "markdown",
   "metadata": {},
   "source": [
    "Existen diferentes formas de representar un grafo (simple), además de la geométrica y muchos métodos para almacenarlos en una computadora. La estructura de datos usada depende de las características del grafo y el algoritmo usado para manipularlo. Entre las estructuras más sencillas y usadas se encuentran las listas y las matrices, aunque frecuentemente se usa una combinación de ambas. Las listas son preferidas en grafos dispersos porque tienen un eficiente uso de la memoria. Por otro lado, las matrices proveen acceso rápido, pero pueden consumir grandes cantidades de memoria. Por el objetivo de este trabajo se hablará sobre la estructura matricial.\n",
    "\n",
    "**Estructura matricial**\n",
    "* Matriz de adyacencia: El grafo está representado por una matriz cuadrada M de tamaño $n^{2}$, donde $n$ es el número de nodos. Si hay un vínculo entre un nodo $x$ y un nodo $y$, entonces el elemento $m_{x,y}$ es $1$, de lo contrario, es $0$.\n",
    "* Matriz de incidencia: El grafo está representado por una matriz de $V$ (vínculos) por $N$ (nodos), donde [nodo, vínculos] contiene la información del vínculo ($1$ si es conectado, $0$ si es no conectado)."
   ]
  },
  {
   "cell_type": "markdown",
   "metadata": {},
   "source": [
    "### 2.2 ¿Qué es el PageRank?"
   ]
  },
  {
   "cell_type": "markdown",
   "metadata": {},
   "source": [
    "El algoritmo PageRank es utilizado por Google Search para ayudarle a determinar la importancia o relevancia de una página web basándose en el grafo de la web. Fue desarrollado por los fundadores de Google, Larry Page y Sergey Brin, en la Universidad de Stanford mientras estudiaban el posgrado en ciencias de la computación.\n",
    "\n",
    "El algoritmo PageRank se basa en la idea de que se puede juzgar la importancia de una página web mirando las páginas que contienen un vínculo hacia la misma. Para esto, se definen $O_i$ al conjunto de páginas que son referenciadas por $i$ (llamadas `outlinks`) e $I_i$ como el conjunto de páginas que hacen referencia a la página $i$ (llamadas `inlinks`). Si una página $A$ contiene un *outlink* a otra página $B$ se interpreta que la página $A$ considera que el contenido de $B$ es relevante para la temática abordada en $A$. Si existen muchos *inlinks* hacia $B$ se considera que es de común acuerdo que la página $B$ es importante. Por otro lado, si la página $B$ tiene solamente un *inlink* pero éste proviene de una página $C$ con autoridad (importancia) decimos que $C$ transfiere su autoridad a $B$, es decir, indica que $B$ es importante. Utilizando estos conceptos de importancia y autoridad el algoritmo PageRank asigna un rango a cada página basándose en sus *inlinks*. \n",
    "\n",
    "No es el único algoritmo utilizado para el motor de búsqueda de Google, pero fue el primero y el más conocido."
   ]
  },
  {
   "cell_type": "markdown",
   "metadata": {},
   "source": [
    "### 2.3 Algoritmo"
   ]
  },
  {
   "cell_type": "markdown",
   "metadata": {},
   "source": [
    "El algoritmo inicial del PageRank lo podemos encontrar en el documento original donde sus creadores presentaron el prototipo de Google: “The Anatomy of a Large-Scale Hypertextual Web Search Engine\":\n",
    "\n",
    "$$\n",
    "PR(A) = (1-d) + d\\sum_{i=1}^n \\frac{PR(i)}{C(i)}\n",
    "$$\n",
    "\n",
    "Donde:\n",
    "- $PR(A)$ es el PageRank de la página A.\n",
    "- $d$ es un factor de amortiguación que tiene un valor entre 0 y 1.\n",
    "- $PR(i)$ son los valores de PageRank que tienen cada una de las páginas $i$ que enlazan a $A$.\n",
    "- $C(i)$ es el número total de enlaces salientes de la página $i$ (sean o no hacia $A$)."
   ]
  },
  {
   "cell_type": "markdown",
   "metadata": {},
   "source": [
    "#### 2.3.1 Factor de amortiguación"
   ]
  },
  {
   "cell_type": "markdown",
   "metadata": {},
   "source": [
    "La teoría del PageRank sostiene que un usuario cualquiera que aleatoriamente hace click en distintos links eventualmente dejará de hacerlo. La probabilidad, en cualquier paso, de que la persona continúe es un factor de amortiguación $d$. Este modelo se puede entender como una cadena de Markov, que es un proceso estocástico donde el valor presente de una variable aleatoria es relevante para predecir el valor futuro de dicha variable. Esto nos indica que la probabilidad de realización de determinado suceso sólo depende de lo ocurrido en el periodo inmediatamente anterior. \n",
    "\n",
    "Varios estudios han probado diferentes factores de amortiguación, pero generalmente se asume que el factor de amortiguación se establecerá alrededor de $0.85$. \n",
    "\n",
    "La introducción del factor de amortiguación en la fórmula resta algo de peso a todas las páginas de Internet y consigue que las páginas que no tienen *outlinks* no salgan especialmente beneficiadas. Si un usuario aterriza en una página sin *outlinks*, lo que hará será navegar a cualquier otra página aleatoriamente, lo que equivale a suponer que una página sin *outlinks* tiene enlaces a todas las páginas de Internet."
   ]
  },
  {
   "cell_type": "markdown",
   "metadata": {},
   "source": [
    "### 2.4 Fórmula iterativa"
   ]
  },
  {
   "cell_type": "markdown",
   "metadata": {},
   "source": [
    "$$\n",
    "PR_{t+1}(P_i) = \\sum_{P_j}\\frac{PR_t(P_j)}{C(P_j)}\n",
    "$$"
   ]
  },
  {
   "cell_type": "markdown",
   "metadata": {},
   "source": [
    "Donde:\n",
    "* $PR_{t+1}(P_i)$: PageRank de la página $i$ en la siguiente iteración.\n",
    "* $PR_{t}(P_j)$: PageRank de la página $j$ en la iteración previa.\n",
    "* $C(P_j)$: número total de *outlinks* de la página $j$.\n",
    "\n",
    "En la iteración $0$, se inicializa un vector de tamaño $n$, y sus valores inciales para cada posición serán $\\frac{1}{n}$."
   ]
  },
  {
   "cell_type": "markdown",
   "metadata": {},
   "source": [
    "### 2.5 Representación en matriz"
   ]
  },
  {
   "cell_type": "markdown",
   "metadata": {},
   "source": [
    "Se pueden utilizar operaciones matriciales en vez de realizar la forma iterativa explicada previamente (donde se hacen cálculos y actualizaciones de valores de uno por uno). Con las operaciones matriciales se pueden realizar múltiples cálculos al mismo tiempo."
   ]
  },
  {
   "cell_type": "markdown",
   "metadata": {},
   "source": [
    "Se define la matriz $H$ que será la matriz de adyacencia asociada al grafo. Esta matriz se definirá por los *outlinks* y el número de éstos por cada página. La matriz $H$ será **estocástica** que nos ayudará a describir las transiciones en una cadena de Markov."
   ]
  },
  {
   "cell_type": "markdown",
   "metadata": {},
   "source": [
    "El método utilizado para realizar estos cálculos de forma más sencilla es el **método de la potencia**."
   ]
  },
  {
   "cell_type": "markdown",
   "metadata": {},
   "source": [
    "#### 2.5.1 Método de la potencia"
   ]
  },
  {
   "cell_type": "markdown",
   "metadata": {},
   "source": [
    "$$ PR_{t+1} = H PR_t$$\n",
    "\n",
    "Donde:\n",
    "* $H$ es la matriz estocástica."
   ]
  },
  {
   "cell_type": "markdown",
   "metadata": {},
   "source": [
    "Esta matriz se debe multiplicar con un vector en cada iteración, ¿pero cuál es el vector inicial? Como se ha mencionado previamente, el vector inicial será un vector de tamaño $n$, y sus valores inciales para cada posición serán $\\frac{1}{n}$."
   ]
  },
  {
   "cell_type": "markdown",
   "metadata": {},
   "source": [
    "Entonces, el vector de la siguiente iteración esta dado por:\n",
    "    $$v_2 = H v$$"
   ]
  },
  {
   "cell_type": "markdown",
   "metadata": {},
   "source": [
    "Y la siguiente iteración será:\n",
    "\n",
    "$$v_3 = H v_2 = H (H v) = H^2 v$$"
   ]
  },
  {
   "cell_type": "markdown",
   "metadata": {},
   "source": [
    "Entonces:\n",
    "    \n",
    "$$v_n = H^{(n-1)} v$$"
   ]
  },
  {
   "cell_type": "markdown",
   "metadata": {},
   "source": [
    "Si hacemos varias iteraciones, se converge a un valor de equilibrio, el cual será el eigenvector asociado al eigenvalor con módulo máximo.  \n",
    "\n",
    "Esta es la principal diferencia del método de la potencia respecto a los algoritmos QR y de rotaciones de Jacobi, que aproximan a todos los eigenvalores y eigenvectores.  Adicionalmente, al sólo requerirse una operación matriz-vector, resulta más eficiente para matrices grandes y ralas, como las resultantes de una búsqueda de internet (que en el 2006, tenían una dimensión de aproximadamente $8.1\\times10^9$ x $8.1\\times10^9$)."
   ]
  },
  {
   "cell_type": "markdown",
   "metadata": {},
   "source": [
    "## 3. Datos"
   ]
  },
  {
   "cell_type": "markdown",
   "metadata": {},
   "source": [
    "Para fines ilustrativos y mostrar con claridad el funcionamiento del algoritmo, se utilizará un set de datos sencillo en el reporte.  Si se desea ahondar con sets de datos que contengan más nodos y vínculos, se puede hacer referencia al [Ejemplo de implementación](https://github.com/lecepe00/PageRank-eigenvectores-eigenvalores/tree/main/Implementacion) incluido en el repositorio."
   ]
  },
  {
   "cell_type": "markdown",
   "metadata": {},
   "source": [
    "## 4. Implementación"
   ]
  },
  {
   "cell_type": "markdown",
   "metadata": {},
   "source": [
    "### Ejemplo:"
   ]
  },
  {
   "cell_type": "markdown",
   "metadata": {},
   "source": [
    "Supongamos que tenemos 4 páginas web donde:\n",
    "- la página A apunta a las páginas C y B\n",
    "- la página B apunta a la página D\n",
    "- la página C apunta a las páginas A, B, D\n",
    "- la página D apunta a la página C"
   ]
  },
  {
   "cell_type": "markdown",
   "metadata": {},
   "source": [
    "Veámoslo de forma gráfica:"
   ]
  },
  {
   "cell_type": "code",
   "execution_count": 3,
   "metadata": {
    "tags": [
     "remove"
    ]
   },
   "outputs": [],
   "source": [
    "import numpy as np\n",
    "import math\n",
    "import pandas as pd\n",
    "from scipy.sparse import csr_matrix \n",
    "  \n",
    "# Para las pruebas\n",
    "from pytest import approx\n",
    "import pprint\n",
    "\n",
    "# Para los grafos\n",
    "import networkx as nx\n",
    "import matplotlib.pyplot as plt"
   ]
  },
  {
   "cell_type": "code",
   "execution_count": 4,
   "metadata": {
    "tags": [
     "remove"
    ]
   },
   "outputs": [],
   "source": [
    "pages_links = pd.DataFrame( columns=['pagina', 'outlinks'])\n",
    "pages_links['pagina'] = ['A', 'B', 'C', 'D']\n",
    "pages_links['outlinks'][0] = ['C', 'B']\n",
    "pages_links['outlinks'][1] = ['D']\n",
    "pages_links['outlinks'][2] = ['A', 'B', 'D']\n",
    "pages_links['outlinks'][3] = ['C']"
   ]
  },
  {
   "cell_type": "code",
   "execution_count": 5,
   "metadata": {
    "tags": [
     "remove"
    ]
   },
   "outputs": [
    {
     "data": {
      "image/png": "[encoded data removed]",
      "text/plain": [
       "<Figure size 432x288 with 1 Axes>"
      ]
     },
     "metadata": {},
     "output_type": "display_data"
    }
   ],
   "source": [
    "nodos = pages_links['pagina']\n",
    "\n",
    "G = nx.DiGraph()\n",
    "\n",
    "for nodo in nodos:\n",
    "    G.add_node(nodo)\n",
    "    \n",
    "for page, outlinks in zip(pages_links['pagina'],pages_links['outlinks']):\n",
    "    for outlink in outlinks:\n",
    "        G.add_edge(page, outlink)\n",
    "\n",
    "pos = nx.spring_layout(G)\n",
    "\n",
    "\n",
    "nx.draw_networkx_nodes(G, pos, node_color='#a0a88a', node_size=400)\n",
    "nx.draw_networkx_labels(G, pos)\n",
    "nx.draw_networkx_edges(G, pos, edge_color='#305029', width=1.8, arrows = True, style='dashed')\n",
    "\n",
    "plt.show()"
   ]
  },
  {
   "cell_type": "markdown",
   "metadata": {},
   "source": [
    "Definimos nuestra matriz estocástica conforme a lo previamente definido:"
   ]
  },
  {
   "cell_type": "code",
   "execution_count": 6,
   "metadata": {
    "tags": [
     "remove"
    ]
   },
   "outputs": [],
   "source": [
    "sparseMatrix = csr_matrix((len(pages_links), len(pages_links)),  \n",
    "                          dtype = np.float).toarray() \n",
    "newdf = pd.DataFrame(sparseMatrix, columns = pages_links['pagina'], index=pages_links['pagina'])\n",
    "count = 0\n",
    "for page, outlinks in zip(pages_links['pagina'],pages_links['outlinks']):\n",
    "    score = 1/len(outlinks)\n",
    "    dict_page = {page: np.zeros(len(pages_links))}\n",
    "    for outlink in outlinks:\n",
    "        newdf[page][outlink] = score"
   ]
  },
  {
   "cell_type": "code",
   "execution_count": 7,
   "metadata": {
    "tags": [
     "remove"
    ]
   },
   "outputs": [
    {
     "data": {
      "text/plain": [
       "array([[0.        , 0.        , 0.33333333, 0.        ],\n",
       "       [0.5       , 0.        , 0.33333333, 0.        ],\n",
       "       [0.5       , 0.        , 0.        , 1.        ],\n",
       "       [0.        , 1.        , 0.33333333, 0.        ]])"
      ]
     },
     "execution_count": 7,
     "metadata": {},
     "output_type": "execute_result"
    }
   ],
   "source": [
    "H = newdf.to_numpy()\n",
    "H"
   ]
  },
  {
   "cell_type": "markdown",
   "metadata": {},
   "source": [
    "Ahora definimos el vector inicial, que en este caso será:\n",
    "\n",
    "\\begin{align}\n",
    "    v &= \\begin{bmatrix}\n",
    "           1/4 \\\\\n",
    "           1/4 \\\\\n",
    "           1/4 \\\\\n",
    "           1/4\n",
    "         \\end{bmatrix}\n",
    "  \\end{align}"
   ]
  },
  {
   "cell_type": "code",
   "execution_count": 8,
   "metadata": {
    "tags": [
     "remove"
    ]
   },
   "outputs": [
    {
     "name": "stdout",
     "output_type": "stream",
     "text": [
      "array([0.25, 0.25, 0.25, 0.25])\n"
     ]
    }
   ],
   "source": [
    "v = np.ones(len(pages_links))\n",
    "v = v*1/len(v)\n",
    "pprint.pprint(v)"
   ]
  },
  {
   "cell_type": "markdown",
   "metadata": {},
   "source": [
    "Como habíamos definido antes: \n",
    "\n",
    "$$v_n = H^{n-1}v$$\n",
    "\n",
    "donde $n$ será el número de iteraciones. \n",
    "\n",
    "En este caso probaremos con 20 iteraciones para obtener el vector 21."
   ]
  },
  {
   "cell_type": "code",
   "execution_count": 9,
   "metadata": {
    "tags": [
     "remove"
    ]
   },
   "outputs": [],
   "source": [
    "n = 20\n",
    "H = np.linalg.matrix_power(H, n)\n",
    "v_n = H@v"
   ]
  },
  {
   "cell_type": "markdown",
   "metadata": {},
   "source": [
    "Cuando hacemos los cálculos obtenemos $v_n$:"
   ]
  },
  {
   "cell_type": "code",
   "execution_count": 10,
   "metadata": {
    "tags": [
     "remove"
    ]
   },
   "outputs": [
    {
     "data": {
      "text/plain": [
       "array([0.12500368, 0.18750089, 0.37499297, 0.31250246])"
      ]
     },
     "execution_count": 10,
     "metadata": {},
     "output_type": "execute_result"
    }
   ],
   "source": [
    "v_n"
   ]
  },
  {
   "cell_type": "markdown",
   "metadata": {},
   "source": [
    "Para mejor entendimiento:"
   ]
  },
  {
   "cell_type": "code",
   "execution_count": 11,
   "metadata": {
    "tags": [
     "remove"
    ]
   },
   "outputs": [
    {
     "data": {
      "text/html": [
       "<div>\n",
       "<style scoped>\n",
       "    .dataframe tbody tr th:only-of-type {\n",
       "        vertical-align: middle;\n",
       "    }\n",
       "\n",
       "    .dataframe tbody tr th {\n",
       "        vertical-align: top;\n",
       "    }\n",
       "\n",
       "    .dataframe thead th {\n",
       "        text-align: right;\n",
       "    }\n",
       "</style>\n",
       "<table border=\"1\" class=\"dataframe\">\n",
       "  <thead>\n",
       "    <tr style=\"text-align: right;\">\n",
       "      <th></th>\n",
       "      <th>pagerank</th>\n",
       "    </tr>\n",
       "    <tr>\n",
       "      <th>nodo</th>\n",
       "      <th></th>\n",
       "    </tr>\n",
       "  </thead>\n",
       "  <tbody>\n",
       "    <tr>\n",
       "      <th>A</th>\n",
       "      <td>0.125004</td>\n",
       "    </tr>\n",
       "    <tr>\n",
       "      <th>B</th>\n",
       "      <td>0.187501</td>\n",
       "    </tr>\n",
       "    <tr>\n",
       "      <th>C</th>\n",
       "      <td>0.374993</td>\n",
       "    </tr>\n",
       "    <tr>\n",
       "      <th>D</th>\n",
       "      <td>0.312502</td>\n",
       "    </tr>\n",
       "  </tbody>\n",
       "</table>\n",
       "</div>"
      ],
      "text/plain": [
       "      pagerank\n",
       "nodo          \n",
       "A     0.125004\n",
       "B     0.187501\n",
       "C     0.374993\n",
       "D     0.312502"
      ]
     },
     "execution_count": 11,
     "metadata": {},
     "output_type": "execute_result"
    }
   ],
   "source": [
    "df = pd.DataFrame(v_n, columns=['pagerank'])\n",
    "\n",
    "df['nodo'] = pages_links['pagina']\n",
    "df = df.set_index('nodo')\n",
    "\n",
    "df"
   ]
  },
  {
   "cell_type": "markdown",
   "metadata": {},
   "source": [
    "Volvemos a graficar con sus respectivos PageRank y podemos observar que $C$ es la página con más alto PageRank, por lo tanto será mostrado primero en el motor de búsqueda."
   ]
  },
  {
   "cell_type": "code",
   "execution_count": 12,
   "metadata": {
    "tags": [
     "remove"
    ]
   },
   "outputs": [],
   "source": [
    "power_method = df.pagerank.to_dict()\n",
    "\n",
    "power_method_round = {}    \n",
    "for node in power_method:\n",
    "    if node in power_method:\n",
    "        #set the node name as the key and the label as its value \n",
    "        power_method_round[node] = round(power_method[node],2)"
   ]
  },
  {
   "cell_type": "code",
   "execution_count": 13,
   "metadata": {
    "scrolled": true,
    "tags": [
     "remove"
    ]
   },
   "outputs": [
    {
     "name": "stdout",
     "output_type": "stream",
     "text": [
      "{'A': 'A:0.13', 'B': 'B:0.19', 'C': 'C:0.37', 'D': 'D:0.31'}\n"
     ]
    },
    {
     "data": {
      "image/png": "[encoded data removed]",
      "text/plain": [
       "<Figure size 432x288 with 1 Axes>"
      ]
     },
     "metadata": {},
     "output_type": "display_data"
    }
   ],
   "source": [
    "G = nx.DiGraph()\n",
    "\n",
    "for nodo in power_method:\n",
    "    G.add_node(nodo)\n",
    "\n",
    "for page, outlinks in zip(pages_links['pagina'],pages_links['outlinks']):\n",
    "    for outlink in outlinks:\n",
    "        G.add_edge(page, outlink)\n",
    "\n",
    "pos = nx.spring_layout(G)\n",
    "\n",
    "labels = {}    \n",
    "for node in G.nodes():\n",
    "    if node in power_method:\n",
    "        #definimos el nombre del nodo como la llave y la etiqueta como el valor \n",
    "        labels[node] = \"{}:{}\".format(node,round(power_method[node],2))\n",
    "\n",
    "# Es lo mismo que power_method pero redondeado        \n",
    "print(labels)\n",
    "\n",
    "nx.draw_networkx_nodes(G, pos, node_color='#a0a88a', node_size=400)\n",
    "nx.draw_networkx_labels(G, pos, labels=labels, font_weight=\"bold\")\n",
    "nx.draw_networkx_edges(G, pos, edge_color='#305029', width=1.8, arrows = True, style='dashed')\n",
    "\n",
    "plt.show()"
   ]
  },
  {
   "cell_type": "markdown",
   "metadata": {},
   "source": [
    "## 5. Conclusiones"
   ]
  },
  {
   "cell_type": "markdown",
   "metadata": {},
   "source": [
    "El algoritmo de PageRank, aunque incorpora conceptos relativamente sencillos de grafos, álgebra lineal y probabilidad, los integra de una manera muy inteligente, que ayuda a darle orden a la enorme cantidad de información disponible en la red.  Es esta capacidad y flexibilidad de entender una base de datos descentralizada, siempre cambiante y en continuo crecimiento, lo que ha mantenido vigente a este algoritmo, a más de 20 años de su publicación original."
   ]
  },
  {
   "cell_type": "markdown",
   "metadata": {},
   "source": [
    "## 6. Referencias\n",
    "\n",
    "- American Mathematical Society.  [How Google Finds Your Needle in the Web's Haystack](http://www.ams.org/publicoutreach/feature-column/fcarc-pagerank)\n",
    "- Barriola, Juan M. y Dotta, Milena.  2015.  [¿CÓMO FUNCIONA GOOGLE? EL ALGORITMO PAGERANK, DIAGRAMAS DE GRAFOS Y CADENAS DE MARKOV](http://www.economicas.uba.ar/wp-content/uploads/2016/04/2-%C2%BFC%C3%B3mo-funciona-google_-el-algoritmo-pagerank-diagramas-de-grafos-y-cadenas-de-markov.-Juan-Manuel-Barriola-y-Milena-Dotta-2.pdf)\n",
    "- Brin, Sergey & Page, Lawrence.  [The Anatomy of a Large-Scale Hypertextual Web Search Engine](https://web.archive.org/web/20170624024436/http://infolab.stanford.edu/~backrub/google.html)\n",
    "- Bryan, Kurt & Leise, Tanya.  [THE LINEAR ALGEBRA BEHIND GOOGLE](https://www.rose-hulman.edu/~bryan/googleFinalVersionFixed.pdf)\n",
    "- Equipo 4.  Optimización 2020-2.  [Ejemplo de implementación](https://github.com/lecepe00/PageRank-eigenvectores-eigenvalores/tree/main/Implementacion)\n",
    "- GeeksforGeeks.  [PageRank](https://www.geeksforgeeks.org/page-rank-algorithm-implementation/)\n",
    "- Global Software Support.  [PageRank Algorithm - Power Method](https://video.search.yahoo.com/yhs/search?fr=yhs-ddc-linuxmint&hsimp=yhs-linuxmint&hspart=ddc&p=page+rank#id=9&vid=b35a1c4b4379bde2aeb371cd71f68b6b&action=view)\n",
    "- Ken State University.  [Eigenvalue Computations](http://www.math.kent.edu/~reichel/courses/intr.num.comp.2/lecture21/evmeth.pdf)\n",
    "- Palacios M., Erick. (2020).  Libro de Optimización 2020.  [Aplicaciones y usos: Page Ranking en un buscador de páginas web](https://itam-ds.github.io/analisis-numerico-computo-cientifico/II.computo_matricial/2.3/Algoritmos_y_aplicaciones_de_eigenvalores_eigenvectores_de_una_matriz.html#aplicaciones-y-usos-page-ranking-en-un-buscador-de-paginas-web)\n",
    "- Wikipedia.  [PageRank](https://en.wikipedia.org/wiki/PageRank)\n",
    "- Wikipedia.  [Teoría de grafos](https://es.wikipedia.org/wiki/Teor%C3%ADa_de_grafos)"
   ]
  },
  {
   "cell_type": "code",
   "execution_count": null,
   "metadata": {},
   "outputs": [],
   "source": []
  }
 ],
 "metadata": {
  "celltoolbar": "Tags",
  "kernelspec": {
   "display_name": "Python 3",
   "language": "python",
   "name": "python3"
  },
  "language_info": {
   "codemirror_mode": {
    "name": "ipython",
    "version": 3
   },
   "file_extension": ".py",
   "mimetype": "text/x-python",
   "name": "python",
   "nbconvert_exporter": "python",
   "pygments_lexer": "ipython3",
   "version": "3.6.9"
  }
 },
 "nbformat": 4,
 "nbformat_minor": 4
}
